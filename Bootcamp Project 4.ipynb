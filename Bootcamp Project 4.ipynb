{
  "cells": [
    {
      "cell_type": "markdown",
      "metadata": {
        "id": "view-in-github",
        "colab_type": "text"
      },
      "source": [
        "<a href=\"https://colab.research.google.com/github/AnujSinghXD/Summer-Bootcamp-Project-IV/blob/main/Bootcamp%20Project%204.ipynb\" target=\"_parent\"><img src=\"https://colab.research.google.com/assets/colab-badge.svg\" alt=\"Open In Colab\"/></a>"
      ]
    },
    {
      "cell_type": "markdown",
      "id": "69a9bf72-e201-4675-aaf3-bad5ae5d58df",
      "metadata": {
        "id": "69a9bf72-e201-4675-aaf3-bad5ae5d58df"
      },
      "source": [
        "<!-- Objective  -->\n",
        "Problem Satement:-\n",
        "A wholesale distributor operating in different regions of Portugal has information on annual spending of several items in their stores across different regions and channels. The data consists of 440 large retailers’ annual spending on 6 different varieties of productsin 3 different regions (Lisbon, Oporto, Other) and across different sales channel (Hotel, Retail)."
      ]
    },
    {
      "cell_type": "markdown",
      "id": "8cbaaadb-55f1-4bd8-a651-888a1e367ad9",
      "metadata": {
        "id": "8cbaaadb-55f1-4bd8-a651-888a1e367ad9"
      },
      "source": [
        "# List of\n",
        "* Table-1\n",
        "* Table-2\n",
        "* Table-3\n",
        "* Table-4\n",
        "* Table-5\n",
        "* Table-6\n",
        "* Table-7\n",
        "* Table-8\n",
        "* Table-9\n",
        "* Table-10"
      ]
    },
    {
      "cell_type": "markdown",
      "id": "b9e73412-830e-44a0-9715-d8b43c2eda89",
      "metadata": {
        "id": "b9e73412-830e-44a0-9715-d8b43c2eda89"
      },
      "source": [
        "# List of Figure\n",
        "* Fig-1\n",
        "* Fif-2\n",
        "* Fig-3"
      ]
    },
    {
      "cell_type": "markdown",
      "id": "88f133b0-3209-4b5d-a5dd-8d9395d39388",
      "metadata": {
        "id": "88f133b0-3209-4b5d-a5dd-8d9395d39388"
      },
      "source": [
        "# Data\n",
        "Data of Wholesale distributor operating in different regions of Portugal .ing"
      ]
    },
    {
      "cell_type": "markdown",
      "id": "8b245e05-6410-4532-a332-903f44caaafd",
      "metadata": {
        "id": "8b245e05-6410-4532-a332-903f44caaafd"
      },
      "source": [
        "# Data Distribution\n",
        "⦁\tBuyer/Spender- ID's of customers\n",
        "\n",
        "⦁\tRegion- Region of the distributor\n",
        "\n",
        "⦁\tFresh- spending on Fresh Vegetables\n",
        "\n",
        "⦁\tMilk- spending on milk\n",
        "\n",
        "⦁\tGrocery- spending on\n",
        "\n",
        "⦁\tFrozen- spending on frozen food\n",
        "\n",
        "⦁\tDetergents_paper- spending on detergents and toilet paper\n",
        "\n",
        "⦁\tDelicatessen- spending on instant foods\n"
      ]
    },
    {
      "cell_type": "markdown",
      "id": "d7ff9523-010d-4165-b8cf-0d71534aff98",
      "metadata": {
        "id": "d7ff9523-010d-4165-b8cf-0d71534aff98"
      },
      "source": [
        "# Basic Steps\n",
        "⦁\tDisplay the top 5 rows.\n",
        "\n",
        "⦁\tDisplay the last 5 rows.\n",
        "\n",
        "⦁\tCheck the shape of dataset.\n",
        "\n",
        "⦁\tCheck the datatypes of each feature.\n",
        "\n",
        "⦁\tCheck the Statistical summary .\n",
        "\n",
        "⦁\tCheck the null values.\n",
        "\n",
        "⦁\tCheck the duplicate values.\n",
        "\n",
        "⦁\tCheck the anomalies or wrong entries.\n",
        "\n",
        "⦁\tCheck the outliers and their authenticity.\n",
        "\n",
        "⦁\tDo the necessary data cleaning steps like dropping duplicates, unnecessary columns, null value imputation, outliers treatment ."
      ]
    },
    {
      "cell_type": "markdown",
      "id": "c582bd22-4f8a-401c-8a47-b72277e90572",
      "metadata": {
        "id": "c582bd22-4f8a-401c-8a47-b72277e90572"
      },
      "source": [
        "# Importing necessary libraries"
      ]
    },
    {
      "cell_type": "code",
      "execution_count": null,
      "id": "97739349-0718-4cb1-be0c-e2b456723590",
      "metadata": {
        "id": "97739349-0718-4cb1-be0c-e2b456723590"
      },
      "outputs": [],
      "source": [
        "import pandas as pd\n",
        "import numpy as np\n",
        "import seaborn as sns\n",
        "import matplotlib.pyplot as plt"
      ]
    },
    {
      "cell_type": "markdown",
      "id": "3bb31f35-bb1f-4c19-8c2a-61c495c7cf41",
      "metadata": {
        "id": "3bb31f35-bb1f-4c19-8c2a-61c495c7cf41"
      },
      "source": [
        "# Loading the datase"
      ]
    },
    {
      "cell_type": "code",
      "execution_count": null,
      "id": "fc912532-0b86-403f-afd6-391f80041082",
      "metadata": {
        "id": "fc912532-0b86-403f-afd6-391f80041082"
      },
      "outputs": [],
      "source": [
        "data=pd.read_csv('C:\\\\Users\\\\BIKASH\\\\Desktop\\\\Bootcamp\\\\dataset.csv')"
      ]
    },
    {
      "cell_type": "markdown",
      "id": "8ea70e7e-1b13-4567-9374-286acb32cdf2",
      "metadata": {
        "id": "8ea70e7e-1b13-4567-9374-286acb32cdf2"
      },
      "source": [
        "# Baisic Exploration"
      ]
    },
    {
      "cell_type": "code",
      "execution_count": null,
      "id": "a8f40293-064d-4714-9e9f-3ffc14203260",
      "metadata": {
        "id": "a8f40293-064d-4714-9e9f-3ffc14203260",
        "outputId": "e425a4c1-715e-42d6-9b6b-2334c58b8695"
      },
      "outputs": [
        {
          "data": {
            "text/html": [
              "<div>\n",
              "<style scoped>\n",
              "    .dataframe tbody tr th:only-of-type {\n",
              "        vertical-align: middle;\n",
              "    }\n",
              "\n",
              "    .dataframe tbody tr th {\n",
              "        vertical-align: top;\n",
              "    }\n",
              "\n",
              "    .dataframe thead th {\n",
              "        text-align: right;\n",
              "    }\n",
              "</style>\n",
              "<table border=\"1\" class=\"dataframe\">\n",
              "  <thead>\n",
              "    <tr style=\"text-align: right;\">\n",
              "      <th></th>\n",
              "      <th>Buyer/Spender</th>\n",
              "      <th>Channel</th>\n",
              "      <th>Region</th>\n",
              "      <th>Fresh</th>\n",
              "      <th>Milk</th>\n",
              "      <th>Grocery</th>\n",
              "      <th>Frozen</th>\n",
              "      <th>Detergents_Paper</th>\n",
              "      <th>Delicatessen</th>\n",
              "    </tr>\n",
              "  </thead>\n",
              "  <tbody>\n",
              "    <tr>\n",
              "      <th>0</th>\n",
              "      <td>1</td>\n",
              "      <td>Retail</td>\n",
              "      <td>Other</td>\n",
              "      <td>12669</td>\n",
              "      <td>9656</td>\n",
              "      <td>7561</td>\n",
              "      <td>214.0</td>\n",
              "      <td>2674.0</td>\n",
              "      <td>1338.0</td>\n",
              "    </tr>\n",
              "    <tr>\n",
              "      <th>1</th>\n",
              "      <td>2</td>\n",
              "      <td>Retail</td>\n",
              "      <td>Other</td>\n",
              "      <td>7057</td>\n",
              "      <td>9810</td>\n",
              "      <td>9568</td>\n",
              "      <td>1762.0</td>\n",
              "      <td>3293.0</td>\n",
              "      <td>1776.0</td>\n",
              "    </tr>\n",
              "    <tr>\n",
              "      <th>2</th>\n",
              "      <td>3</td>\n",
              "      <td>Retail</td>\n",
              "      <td>Other</td>\n",
              "      <td>?</td>\n",
              "      <td>8808</td>\n",
              "      <td>7684</td>\n",
              "      <td>2405.0</td>\n",
              "      <td>3516.0</td>\n",
              "      <td>7844.0</td>\n",
              "    </tr>\n",
              "    <tr>\n",
              "      <th>3</th>\n",
              "      <td>4</td>\n",
              "      <td>Hotel</td>\n",
              "      <td>Other</td>\n",
              "      <td>13265</td>\n",
              "      <td>1196</td>\n",
              "      <td>4221</td>\n",
              "      <td>6404.0</td>\n",
              "      <td>507.0</td>\n",
              "      <td>1788.0</td>\n",
              "    </tr>\n",
              "    <tr>\n",
              "      <th>4</th>\n",
              "      <td>5</td>\n",
              "      <td>Retail</td>\n",
              "      <td>Other</td>\n",
              "      <td>22615</td>\n",
              "      <td>5410</td>\n",
              "      <td>7198</td>\n",
              "      <td>3915.0</td>\n",
              "      <td>1777.0</td>\n",
              "      <td>5185.0</td>\n",
              "    </tr>\n",
              "  </tbody>\n",
              "</table>\n",
              "</div>"
            ],
            "text/plain": [
              "   Buyer/Spender Channel Region  Fresh  Milk  Grocery  Frozen  \\\n",
              "0              1  Retail  Other  12669  9656     7561   214.0   \n",
              "1              2  Retail  Other   7057  9810     9568  1762.0   \n",
              "2              3  Retail  Other      ?  8808     7684  2405.0   \n",
              "3              4   Hotel  Other  13265  1196     4221  6404.0   \n",
              "4              5  Retail  Other  22615  5410     7198  3915.0   \n",
              "\n",
              "   Detergents_Paper  Delicatessen  \n",
              "0            2674.0        1338.0  \n",
              "1            3293.0        1776.0  \n",
              "2            3516.0        7844.0  \n",
              "3             507.0        1788.0  \n",
              "4            1777.0        5185.0  "
            ]
          },
          "execution_count": 4,
          "metadata": {},
          "output_type": "execute_result"
        }
      ],
      "source": [
        "data.head()\n"
      ]
    },
    {
      "cell_type": "markdown",
      "id": "3dba1c52-ce47-4f3d-af66-c126ca5fb369",
      "metadata": {
        "id": "3dba1c52-ce47-4f3d-af66-c126ca5fb369"
      },
      "source": [
        "![image.png](attachment:dbc22be0-a47c-4c31-be4f-6878a78dacc8.png)\n",
        "\n",
        "Table - 1"
      ]
    },
    {
      "cell_type": "markdown",
      "id": "d045b7d5-d1df-46b2-b994-cafcdd3b0bbf",
      "metadata": {
        "id": "d045b7d5-d1df-46b2-b994-cafcdd3b0bbf"
      },
      "source": [
        "# Observation:-\n",
        "->\n",
        "In 3rd entry there is an anomalie in Fresh Feature which is \"?\" insted of an integer"
      ]
    },
    {
      "cell_type": "code",
      "execution_count": null,
      "id": "cbee89b0-5482-4a29-9650-dd1bf65f64a4",
      "metadata": {
        "id": "cbee89b0-5482-4a29-9650-dd1bf65f64a4",
        "outputId": "d856edf2-763d-45ae-90c3-b3886b6282d1"
      },
      "outputs": [
        {
          "name": "stdout",
          "output_type": "stream",
          "text": [
            "(440, 9)\n"
          ]
        }
      ],
      "source": [
        "print(data.shape)"
      ]
    },
    {
      "cell_type": "markdown",
      "id": "f3eefbfd-8112-487b-9f13-d9aae3a1bd35",
      "metadata": {
        "id": "f3eefbfd-8112-487b-9f13-d9aae3a1bd35"
      },
      "source": [
        "The Shape of the dataframe is (440,9)"
      ]
    },
    {
      "cell_type": "code",
      "execution_count": null,
      "id": "e4e17955-7d2d-4f64-aa3e-ed7287ab3dfe",
      "metadata": {
        "id": "e4e17955-7d2d-4f64-aa3e-ed7287ab3dfe"
      },
      "outputs": [],
      "source": [
        "d=data"
      ]
    },
    {
      "cell_type": "code",
      "execution_count": null,
      "id": "77089546-b67a-4579-a14a-383e6775e727",
      "metadata": {
        "id": "77089546-b67a-4579-a14a-383e6775e727",
        "outputId": "8ca8b9cf-9fb6-44cd-fbea-f818ceb2072e"
      },
      "outputs": [
        {
          "data": {
            "text/html": [
              "<div>\n",
              "<style scoped>\n",
              "    .dataframe tbody tr th:only-of-type {\n",
              "        vertical-align: middle;\n",
              "    }\n",
              "\n",
              "    .dataframe tbody tr th {\n",
              "        vertical-align: top;\n",
              "    }\n",
              "\n",
              "    .dataframe thead th {\n",
              "        text-align: right;\n",
              "    }\n",
              "</style>\n",
              "<table border=\"1\" class=\"dataframe\">\n",
              "  <thead>\n",
              "    <tr style=\"text-align: right;\">\n",
              "      <th></th>\n",
              "      <th>Buyer/Spender</th>\n",
              "      <th>Channel</th>\n",
              "      <th>Region</th>\n",
              "      <th>Fresh</th>\n",
              "      <th>Milk</th>\n",
              "      <th>Grocery</th>\n",
              "      <th>Frozen</th>\n",
              "      <th>Detergents_Paper</th>\n",
              "      <th>Delicatessen</th>\n",
              "    </tr>\n",
              "  </thead>\n",
              "  <tbody>\n",
              "    <tr>\n",
              "      <th>435</th>\n",
              "      <td>436</td>\n",
              "      <td>Hotel</td>\n",
              "      <td>Other</td>\n",
              "      <td>29703</td>\n",
              "      <td>12051</td>\n",
              "      <td>16027</td>\n",
              "      <td>13135.0</td>\n",
              "      <td>182.0</td>\n",
              "      <td>2204.0</td>\n",
              "    </tr>\n",
              "    <tr>\n",
              "      <th>436</th>\n",
              "      <td>437</td>\n",
              "      <td>Hotel</td>\n",
              "      <td>Other</td>\n",
              "      <td>39228</td>\n",
              "      <td>1431</td>\n",
              "      <td>764</td>\n",
              "      <td>4510.0</td>\n",
              "      <td>93.0</td>\n",
              "      <td>2346.0</td>\n",
              "    </tr>\n",
              "    <tr>\n",
              "      <th>437</th>\n",
              "      <td>438</td>\n",
              "      <td>Retail</td>\n",
              "      <td>Other</td>\n",
              "      <td>14531</td>\n",
              "      <td>15488</td>\n",
              "      <td>30243</td>\n",
              "      <td>437.0</td>\n",
              "      <td>14841.0</td>\n",
              "      <td>1867.0</td>\n",
              "    </tr>\n",
              "    <tr>\n",
              "      <th>438</th>\n",
              "      <td>439</td>\n",
              "      <td>Hotel</td>\n",
              "      <td>Other</td>\n",
              "      <td>10290</td>\n",
              "      <td>1981</td>\n",
              "      <td>2232</td>\n",
              "      <td>1038.0</td>\n",
              "      <td>168.0</td>\n",
              "      <td>2125.0</td>\n",
              "    </tr>\n",
              "    <tr>\n",
              "      <th>439</th>\n",
              "      <td>440</td>\n",
              "      <td>Hotel</td>\n",
              "      <td>Other</td>\n",
              "      <td>2787</td>\n",
              "      <td>1698</td>\n",
              "      <td>2510</td>\n",
              "      <td>65.0</td>\n",
              "      <td>477.0</td>\n",
              "      <td>52.0</td>\n",
              "    </tr>\n",
              "  </tbody>\n",
              "</table>\n",
              "</div>"
            ],
            "text/plain": [
              "     Buyer/Spender Channel Region  Fresh   Milk  Grocery   Frozen  \\\n",
              "435            436   Hotel  Other  29703  12051    16027  13135.0   \n",
              "436            437   Hotel  Other  39228   1431      764   4510.0   \n",
              "437            438  Retail  Other  14531  15488    30243    437.0   \n",
              "438            439   Hotel  Other  10290   1981     2232   1038.0   \n",
              "439            440   Hotel  Other   2787   1698     2510     65.0   \n",
              "\n",
              "     Detergents_Paper  Delicatessen  \n",
              "435             182.0        2204.0  \n",
              "436              93.0        2346.0  \n",
              "437           14841.0        1867.0  \n",
              "438             168.0        2125.0  \n",
              "439             477.0          52.0  "
            ]
          },
          "execution_count": 7,
          "metadata": {},
          "output_type": "execute_result"
        }
      ],
      "source": [
        "d.tail()"
      ]
    },
    {
      "cell_type": "markdown",
      "id": "4a7bfeeb-8d7c-43e6-adca-51d1a60b8b5f",
      "metadata": {
        "id": "4a7bfeeb-8d7c-43e6-adca-51d1a60b8b5f"
      },
      "source": [
        "![image.png](attachment:3e8449e7-f9a2-4631-8e01-a2919adcc9f2.png)\n",
        "\n",
        "Table - 2"
      ]
    },
    {
      "cell_type": "code",
      "execution_count": null,
      "id": "307d3943-43a8-46ec-acd8-475c006bdfe8",
      "metadata": {
        "scrolled": true,
        "id": "307d3943-43a8-46ec-acd8-475c006bdfe8",
        "outputId": "9d528343-ab69-472a-f0d0-3d48cfb0453d"
      },
      "outputs": [
        {
          "name": "stdout",
          "output_type": "stream",
          "text": [
            "<class 'pandas.core.frame.DataFrame'>\n",
            "RangeIndex: 440 entries, 0 to 439\n",
            "Data columns (total 9 columns):\n",
            " #   Column            Non-Null Count  Dtype  \n",
            "---  ------            --------------  -----  \n",
            " 0   Buyer/Spender     440 non-null    int64  \n",
            " 1   Channel           437 non-null    object \n",
            " 2   Region            434 non-null    object \n",
            " 3   Fresh             440 non-null    object \n",
            " 4   Milk              440 non-null    int64  \n",
            " 5   Grocery           440 non-null    int64  \n",
            " 6   Frozen            437 non-null    float64\n",
            " 7   Detergents_Paper  439 non-null    float64\n",
            " 8   Delicatessen      438 non-null    float64\n",
            "dtypes: float64(3), int64(3), object(3)\n",
            "memory usage: 31.1+ KB\n"
          ]
        }
      ],
      "source": [
        "data.info()"
      ]
    },
    {
      "cell_type": "markdown",
      "id": "7328e7cd-0241-4567-b14d-eed784e53f15",
      "metadata": {
        "id": "7328e7cd-0241-4567-b14d-eed784e53f15"
      },
      "source": [
        "![image.png](attachment:62d3fcd8-0278-4cc8-b5d9-4612bc11e539.png)\n",
        "\n",
        "Table - 3"
      ]
    },
    {
      "cell_type": "markdown",
      "id": "a6fd5bd5-3055-4b69-8277-f534c3749ffc",
      "metadata": {
        "id": "a6fd5bd5-3055-4b69-8277-f534c3749ffc"
      },
      "source": [
        "# Observation\n",
        "->The Fresh Feature is of object type which should be of integer type."
      ]
    },
    {
      "cell_type": "code",
      "execution_count": null,
      "id": "88b75441-da5e-474a-b3a0-faa4d01e606e",
      "metadata": {
        "id": "88b75441-da5e-474a-b3a0-faa4d01e606e",
        "outputId": "8853ef8b-02ca-403d-e077-1f446cf7ab90"
      },
      "outputs": [
        {
          "data": {
            "text/html": [
              "<div>\n",
              "<style scoped>\n",
              "    .dataframe tbody tr th:only-of-type {\n",
              "        vertical-align: middle;\n",
              "    }\n",
              "\n",
              "    .dataframe tbody tr th {\n",
              "        vertical-align: top;\n",
              "    }\n",
              "\n",
              "    .dataframe thead th {\n",
              "        text-align: right;\n",
              "    }\n",
              "</style>\n",
              "<table border=\"1\" class=\"dataframe\">\n",
              "  <thead>\n",
              "    <tr style=\"text-align: right;\">\n",
              "      <th></th>\n",
              "      <th>Buyer/Spender</th>\n",
              "      <th>Milk</th>\n",
              "      <th>Grocery</th>\n",
              "      <th>Frozen</th>\n",
              "      <th>Detergents_Paper</th>\n",
              "      <th>Delicatessen</th>\n",
              "    </tr>\n",
              "  </thead>\n",
              "  <tbody>\n",
              "    <tr>\n",
              "      <th>count</th>\n",
              "      <td>440.000000</td>\n",
              "      <td>440.000000</td>\n",
              "      <td>440.000000</td>\n",
              "      <td>437.000000</td>\n",
              "      <td>439.000000</td>\n",
              "      <td>438.000000</td>\n",
              "    </tr>\n",
              "    <tr>\n",
              "      <th>mean</th>\n",
              "      <td>220.500000</td>\n",
              "      <td>6035.779545</td>\n",
              "      <td>7951.277273</td>\n",
              "      <td>3085.638444</td>\n",
              "      <td>3773.747153</td>\n",
              "      <td>1531.057078</td>\n",
              "    </tr>\n",
              "    <tr>\n",
              "      <th>std</th>\n",
              "      <td>127.161315</td>\n",
              "      <td>8964.929649</td>\n",
              "      <td>9503.162829</td>\n",
              "      <td>4867.744145</td>\n",
              "      <td>19364.886053</td>\n",
              "      <td>2825.044262</td>\n",
              "    </tr>\n",
              "    <tr>\n",
              "      <th>min</th>\n",
              "      <td>1.000000</td>\n",
              "      <td>1.000000</td>\n",
              "      <td>3.000000</td>\n",
              "      <td>25.000000</td>\n",
              "      <td>3.000000</td>\n",
              "      <td>3.000000</td>\n",
              "    </tr>\n",
              "    <tr>\n",
              "      <th>25%</th>\n",
              "      <td>110.750000</td>\n",
              "      <td>1525.250000</td>\n",
              "      <td>2153.000000</td>\n",
              "      <td>744.000000</td>\n",
              "      <td>256.500000</td>\n",
              "      <td>411.250000</td>\n",
              "    </tr>\n",
              "    <tr>\n",
              "      <th>50%</th>\n",
              "      <td>220.500000</td>\n",
              "      <td>3641.000000</td>\n",
              "      <td>4755.500000</td>\n",
              "      <td>1535.000000</td>\n",
              "      <td>813.000000</td>\n",
              "      <td>971.000000</td>\n",
              "    </tr>\n",
              "    <tr>\n",
              "      <th>75%</th>\n",
              "      <td>330.250000</td>\n",
              "      <td>7217.500000</td>\n",
              "      <td>10655.750000</td>\n",
              "      <td>3570.000000</td>\n",
              "      <td>3956.000000</td>\n",
              "      <td>1822.750000</td>\n",
              "    </tr>\n",
              "    <tr>\n",
              "      <th>max</th>\n",
              "      <td>440.000000</td>\n",
              "      <td>112400.000000</td>\n",
              "      <td>92780.000000</td>\n",
              "      <td>60869.000000</td>\n",
              "      <td>396100.000000</td>\n",
              "      <td>47943.000000</td>\n",
              "    </tr>\n",
              "  </tbody>\n",
              "</table>\n",
              "</div>"
            ],
            "text/plain": [
              "       Buyer/Spender           Milk       Grocery        Frozen  \\\n",
              "count     440.000000     440.000000    440.000000    437.000000   \n",
              "mean      220.500000    6035.779545   7951.277273   3085.638444   \n",
              "std       127.161315    8964.929649   9503.162829   4867.744145   \n",
              "min         1.000000       1.000000      3.000000     25.000000   \n",
              "25%       110.750000    1525.250000   2153.000000    744.000000   \n",
              "50%       220.500000    3641.000000   4755.500000   1535.000000   \n",
              "75%       330.250000    7217.500000  10655.750000   3570.000000   \n",
              "max       440.000000  112400.000000  92780.000000  60869.000000   \n",
              "\n",
              "       Detergents_Paper  Delicatessen  \n",
              "count        439.000000    438.000000  \n",
              "mean        3773.747153   1531.057078  \n",
              "std        19364.886053   2825.044262  \n",
              "min            3.000000      3.000000  \n",
              "25%          256.500000    411.250000  \n",
              "50%          813.000000    971.000000  \n",
              "75%         3956.000000   1822.750000  \n",
              "max       396100.000000  47943.000000  "
            ]
          },
          "execution_count": 9,
          "metadata": {},
          "output_type": "execute_result"
        }
      ],
      "source": [
        "d.describe()"
      ]
    },
    {
      "cell_type": "markdown",
      "id": "67eba765-9040-41c1-b5ec-d32cb01dda23",
      "metadata": {
        "id": "67eba765-9040-41c1-b5ec-d32cb01dda23"
      },
      "source": [
        "![image.png](attachment:5e240553-628e-4df0-af42-a45250b71408.png)\n",
        "\n",
        "Table - 4"
      ]
    },
    {
      "cell_type": "code",
      "execution_count": null,
      "id": "25171a81-966d-4920-8489-de9781606942",
      "metadata": {
        "scrolled": true,
        "id": "25171a81-966d-4920-8489-de9781606942",
        "outputId": "e2647ce7-7cc3-4091-efca-7b846f5ef470"
      },
      "outputs": [
        {
          "data": {
            "text/plain": [
              "Buyer/Spender       0\n",
              "Channel             3\n",
              "Region              6\n",
              "Fresh               0\n",
              "Milk                0\n",
              "Grocery             0\n",
              "Frozen              3\n",
              "Detergents_Paper    1\n",
              "Delicatessen        2\n",
              "dtype: int64"
            ]
          },
          "execution_count": 10,
          "metadata": {},
          "output_type": "execute_result"
        }
      ],
      "source": [
        "d.isnull().sum()"
      ]
    },
    {
      "cell_type": "markdown",
      "id": "d43a2ccf-6558-4485-b2cf-ae5a779787d4",
      "metadata": {
        "id": "d43a2ccf-6558-4485-b2cf-ae5a779787d4"
      },
      "source": [
        "![image.png](attachment:7b5b152f-350d-424f-b959-9ead9227df27.png)\n",
        "\n",
        "Table - 5"
      ]
    },
    {
      "cell_type": "code",
      "execution_count": null,
      "id": "c5595d74-1998-4747-bee7-8b5f58068454",
      "metadata": {
        "id": "c5595d74-1998-4747-bee7-8b5f58068454",
        "outputId": "d27e476e-1c89-423f-8dd7-5b462713bce4"
      },
      "outputs": [
        {
          "data": {
            "text/plain": [
              "0"
            ]
          },
          "execution_count": 11,
          "metadata": {},
          "output_type": "execute_result"
        }
      ],
      "source": [
        "d.duplicated().sum()"
      ]
    },
    {
      "cell_type": "markdown",
      "id": "15d83e2a-711f-4c05-a684-09adc65d4379",
      "metadata": {
        "id": "15d83e2a-711f-4c05-a684-09adc65d4379"
      },
      "source": [
        "->It has 0 duplicate values"
      ]
    },
    {
      "cell_type": "code",
      "execution_count": null,
      "id": "163f1260-44c8-41be-950b-d9fb2bf3c3a0",
      "metadata": {
        "id": "163f1260-44c8-41be-950b-d9fb2bf3c3a0",
        "outputId": "f871a23c-cffe-43c1-a720-2ee2a5c496fa"
      },
      "outputs": [
        {
          "data": {
            "image/png": "[encoded data removed]",
            "text/plain": [
              "<Figure size 1000x1000 with 1 Axes>"
            ]
          },
          "metadata": {},
          "output_type": "display_data"
        }
      ],
      "source": [
        "plt.figure(figsize=(10,10))\n",
        "sns.boxplot(data=d,orient = 'h')\n",
        "plt.xticks(rotation=45);"
      ]
    },
    {
      "cell_type": "markdown",
      "id": "e8d8a018-4a79-46b1-bc69-9c518292efbe",
      "metadata": {
        "id": "e8d8a018-4a79-46b1-bc69-9c518292efbe"
      },
      "source": [
        "->Detergents_Paper Feature has an outlier with value more than 350000 .\n",
        "\n",
        "![image.png](attachment:987c0f63-e377-41c2-8ba1-b7b6d43e0a3c.png)\n",
        "\n",
        "Fig - 1"
      ]
    },
    {
      "cell_type": "code",
      "execution_count": null,
      "id": "c286c497-21f2-4969-aba8-640cf3ff9744",
      "metadata": {
        "id": "c286c497-21f2-4969-aba8-640cf3ff9744",
        "outputId": "de9ee53b-51df-445a-8240-5aa20532419b"
      },
      "outputs": [
        {
          "data": {
            "text/html": [
              "<div>\n",
              "<style scoped>\n",
              "    .dataframe tbody tr th:only-of-type {\n",
              "        vertical-align: middle;\n",
              "    }\n",
              "\n",
              "    .dataframe tbody tr th {\n",
              "        vertical-align: top;\n",
              "    }\n",
              "\n",
              "    .dataframe thead th {\n",
              "        text-align: right;\n",
              "    }\n",
              "</style>\n",
              "<table border=\"1\" class=\"dataframe\">\n",
              "  <thead>\n",
              "    <tr style=\"text-align: right;\">\n",
              "      <th></th>\n",
              "      <th>Buyer/Spender</th>\n",
              "      <th>Channel</th>\n",
              "      <th>Region</th>\n",
              "      <th>Fresh</th>\n",
              "      <th>Milk</th>\n",
              "      <th>Grocery</th>\n",
              "      <th>Frozen</th>\n",
              "      <th>Detergents_Paper</th>\n",
              "      <th>Delicatessen</th>\n",
              "    </tr>\n",
              "  </thead>\n",
              "  <tbody>\n",
              "    <tr>\n",
              "      <th>213</th>\n",
              "      <td>214</td>\n",
              "      <td>Hotel</td>\n",
              "      <td>Lisbon</td>\n",
              "      <td>3317</td>\n",
              "      <td>6602</td>\n",
              "      <td>6861</td>\n",
              "      <td>1329.0</td>\n",
              "      <td>396100.0</td>\n",
              "      <td>1215.0</td>\n",
              "    </tr>\n",
              "  </tbody>\n",
              "</table>\n",
              "</div>"
            ],
            "text/plain": [
              "     Buyer/Spender Channel  Region Fresh  Milk  Grocery  Frozen  \\\n",
              "213            214   Hotel  Lisbon  3317  6602     6861  1329.0   \n",
              "\n",
              "     Detergents_Paper  Delicatessen  \n",
              "213          396100.0        1215.0  "
            ]
          },
          "execution_count": 13,
          "metadata": {},
          "output_type": "execute_result"
        }
      ],
      "source": [
        "d[d[\"Detergents_Paper\"]>350000]"
      ]
    },
    {
      "cell_type": "markdown",
      "id": "7aac6a5c-56a5-4c60-bec0-32afee5371a0",
      "metadata": {
        "id": "7aac6a5c-56a5-4c60-bec0-32afee5371a0"
      },
      "source": [
        "![image.png](attachment:751580ba-c54c-44b9-afb0-ed8173e1fbeb.png)"
      ]
    },
    {
      "cell_type": "code",
      "execution_count": null,
      "id": "629ddece-b19b-4046-9f0b-c7b815c7171e",
      "metadata": {
        "id": "629ddece-b19b-4046-9f0b-c7b815c7171e"
      },
      "outputs": [],
      "source": [
        "\n",
        "def remove_outlier(col):\n",
        "    sorted(col)\n",
        "    Q1,Q3=col.quantile([0.25,0.75])\n",
        "    IQR=Q3-Q1\n",
        "    lower_range= Q1-(1.5 * IQR)\n",
        "    upper_range= Q3+(1.5 * IQR)\n",
        "    return lower_range, upper_range\n",
        "\n",
        "for i in d.columns:\n",
        "    if d[i].dtype !='object':\n",
        "        lr,ur=remove_outlier(d[i])\n",
        "        d[i]=np.where(d[i]>ur,ur,d[i])\n",
        "        d[i]=np.where(d[i]<lr,lr,d[i])"
      ]
    },
    {
      "cell_type": "code",
      "execution_count": null,
      "id": "60f863f9-734a-4066-a369-0b3a1deb67ad",
      "metadata": {
        "id": "60f863f9-734a-4066-a369-0b3a1deb67ad",
        "outputId": "44f58a98-4f50-403a-e022-6f764f47ea34"
      },
      "outputs": [
        {
          "data": {
            "image/png": "[encoded data removed]",
            "text/plain": [
              "<Figure size 1000x1000 with 1 Axes>"
            ]
          },
          "metadata": {},
          "output_type": "display_data"
        }
      ],
      "source": [
        "plt.figure(figsize=(10,10))\n",
        "sns.boxplot(data=d,orient = 'h')\n",
        "plt.xticks(rotation=45);"
      ]
    },
    {
      "cell_type": "markdown",
      "id": "b6bf5263-cddc-4ed5-9128-b2e15ddcafc7",
      "metadata": {
        "id": "b6bf5263-cddc-4ed5-9128-b2e15ddcafc7"
      },
      "source": [
        "![image.png](attachment:d0e08d83-e6b6-4f15-92d9-1b8c86ccc164.png)\n",
        "\n",
        "Fig - 2"
      ]
    },
    {
      "cell_type": "code",
      "execution_count": null,
      "id": "0cb04fd0-7f9e-4338-af13-d80ed533449c",
      "metadata": {
        "id": "0cb04fd0-7f9e-4338-af13-d80ed533449c",
        "outputId": "bdf91b4c-9b7b-4db7-e6f1-e0010a3f7602"
      },
      "outputs": [
        {
          "data": {
            "text/html": [
              "<div>\n",
              "<style scoped>\n",
              "    .dataframe tbody tr th:only-of-type {\n",
              "        vertical-align: middle;\n",
              "    }\n",
              "\n",
              "    .dataframe tbody tr th {\n",
              "        vertical-align: top;\n",
              "    }\n",
              "\n",
              "    .dataframe thead th {\n",
              "        text-align: right;\n",
              "    }\n",
              "</style>\n",
              "<table border=\"1\" class=\"dataframe\">\n",
              "  <thead>\n",
              "    <tr style=\"text-align: right;\">\n",
              "      <th></th>\n",
              "      <th>Buyer/Spender</th>\n",
              "      <th>Channel</th>\n",
              "      <th>Region</th>\n",
              "      <th>Fresh</th>\n",
              "      <th>Milk</th>\n",
              "      <th>Grocery</th>\n",
              "      <th>Frozen</th>\n",
              "      <th>Detergents_Paper</th>\n",
              "      <th>Delicatessen</th>\n",
              "    </tr>\n",
              "  </thead>\n",
              "  <tbody>\n",
              "    <tr>\n",
              "      <th>2</th>\n",
              "      <td>3.0</td>\n",
              "      <td>Retail</td>\n",
              "      <td>Other</td>\n",
              "      <td>?</td>\n",
              "      <td>8808.0</td>\n",
              "      <td>7684.0</td>\n",
              "      <td>2405.0</td>\n",
              "      <td>3516.0</td>\n",
              "      <td>3940.0</td>\n",
              "    </tr>\n",
              "    <tr>\n",
              "      <th>78</th>\n",
              "      <td>79.0</td>\n",
              "      <td>Hotel</td>\n",
              "      <td>Other</td>\n",
              "      <td>?</td>\n",
              "      <td>1175.0</td>\n",
              "      <td>2067.0</td>\n",
              "      <td>2096.0</td>\n",
              "      <td>301.0</td>\n",
              "      <td>167.0</td>\n",
              "    </tr>\n",
              "  </tbody>\n",
              "</table>\n",
              "</div>"
            ],
            "text/plain": [
              "    Buyer/Spender Channel Region Fresh    Milk  Grocery  Frozen  \\\n",
              "2             3.0  Retail  Other     ?  8808.0   7684.0  2405.0   \n",
              "78           79.0   Hotel  Other     ?  1175.0   2067.0  2096.0   \n",
              "\n",
              "    Detergents_Paper  Delicatessen  \n",
              "2             3516.0        3940.0  \n",
              "78             301.0         167.0  "
            ]
          },
          "execution_count": 17,
          "metadata": {},
          "output_type": "execute_result"
        }
      ],
      "source": [
        "d[d[\"Fresh\"]==\"?\"]"
      ]
    },
    {
      "cell_type": "markdown",
      "id": "13b2db84-ccbf-43a8-87e7-447899e55ef7",
      "metadata": {
        "id": "13b2db84-ccbf-43a8-87e7-447899e55ef7"
      },
      "source": [
        "**rows at index 2 and 78 has anomalies\n",
        "\n",
        "![image.png](attachment:ad6738bc-27f1-4abb-b807-917c019ffecf.png)\n",
        "\n",
        "Table - 5"
      ]
    },
    {
      "cell_type": "code",
      "execution_count": null,
      "id": "5cd4ecf3-4d30-4a70-9f8a-e3f7d73044e1",
      "metadata": {
        "id": "5cd4ecf3-4d30-4a70-9f8a-e3f7d73044e1"
      },
      "outputs": [],
      "source": [
        "d.loc[2,\"Fresh\"]=np.nan\n",
        "d.loc[78,\"Fresh\"]=np.nan"
      ]
    },
    {
      "cell_type": "code",
      "execution_count": null,
      "id": "8da8ae8a-4ad3-46ba-8056-fc905ab3905f",
      "metadata": {
        "id": "8da8ae8a-4ad3-46ba-8056-fc905ab3905f"
      },
      "outputs": [],
      "source": [
        "d[\"Fresh\"]=d[\"Fresh\"].astype(float)"
      ]
    },
    {
      "cell_type": "code",
      "execution_count": null,
      "id": "56c6ae54-37da-4bf2-87a4-3bc331845834",
      "metadata": {
        "id": "56c6ae54-37da-4bf2-87a4-3bc331845834",
        "outputId": "43f27c31-86ee-4b21-93fa-22d8b40231b1"
      },
      "outputs": [
        {
          "name": "stdout",
          "output_type": "stream",
          "text": [
            "<class 'pandas.core.frame.DataFrame'>\n",
            "RangeIndex: 440 entries, 0 to 439\n",
            "Data columns (total 9 columns):\n",
            " #   Column            Non-Null Count  Dtype  \n",
            "---  ------            --------------  -----  \n",
            " 0   Buyer/Spender     440 non-null    float64\n",
            " 1   Channel           437 non-null    object \n",
            " 2   Region            434 non-null    object \n",
            " 3   Fresh             438 non-null    float64\n",
            " 4   Milk              440 non-null    float64\n",
            " 5   Grocery           440 non-null    float64\n",
            " 6   Frozen            437 non-null    float64\n",
            " 7   Detergents_Paper  439 non-null    float64\n",
            " 8   Delicatessen      438 non-null    float64\n",
            "dtypes: float64(7), object(2)\n",
            "memory usage: 31.1+ KB\n"
          ]
        }
      ],
      "source": [
        "d.info()"
      ]
    },
    {
      "cell_type": "code",
      "execution_count": null,
      "id": "e080cbe5-028d-4201-bbee-91f8fd32e169",
      "metadata": {
        "scrolled": true,
        "id": "e080cbe5-028d-4201-bbee-91f8fd32e169",
        "outputId": "f3231321-dedb-40e1-b9ac-cbc085b5fc08"
      },
      "outputs": [
        {
          "data": {
            "text/html": [
              "<div>\n",
              "<style scoped>\n",
              "    .dataframe tbody tr th:only-of-type {\n",
              "        vertical-align: middle;\n",
              "    }\n",
              "\n",
              "    .dataframe tbody tr th {\n",
              "        vertical-align: top;\n",
              "    }\n",
              "\n",
              "    .dataframe thead th {\n",
              "        text-align: right;\n",
              "    }\n",
              "</style>\n",
              "<table border=\"1\" class=\"dataframe\">\n",
              "  <thead>\n",
              "    <tr style=\"text-align: right;\">\n",
              "      <th></th>\n",
              "      <th>Buyer/Spender</th>\n",
              "      <th>Fresh</th>\n",
              "      <th>Milk</th>\n",
              "      <th>Grocery</th>\n",
              "      <th>Frozen</th>\n",
              "      <th>Detergents_Paper</th>\n",
              "      <th>Delicatessen</th>\n",
              "    </tr>\n",
              "  </thead>\n",
              "  <tbody>\n",
              "    <tr>\n",
              "      <th>count</th>\n",
              "      <td>440.000000</td>\n",
              "      <td>438.000000</td>\n",
              "      <td>440.000000</td>\n",
              "      <td>440.00000</td>\n",
              "      <td>437.000000</td>\n",
              "      <td>439.000000</td>\n",
              "      <td>438.000000</td>\n",
              "    </tr>\n",
              "    <tr>\n",
              "      <th>mean</th>\n",
              "      <td>220.500000</td>\n",
              "      <td>12016.009132</td>\n",
              "      <td>5073.405966</td>\n",
              "      <td>7236.37500</td>\n",
              "      <td>2520.469108</td>\n",
              "      <td>2408.965262</td>\n",
              "      <td>1271.831050</td>\n",
              "    </tr>\n",
              "    <tr>\n",
              "      <th>std</th>\n",
              "      <td>127.161315</td>\n",
              "      <td>12673.210863</td>\n",
              "      <td>4435.284867</td>\n",
              "      <td>6596.53308</td>\n",
              "      <td>2419.855198</td>\n",
              "      <td>2976.297834</td>\n",
              "      <td>1083.224242</td>\n",
              "    </tr>\n",
              "    <tr>\n",
              "      <th>min</th>\n",
              "      <td>1.000000</td>\n",
              "      <td>3.000000</td>\n",
              "      <td>1.000000</td>\n",
              "      <td>3.00000</td>\n",
              "      <td>25.000000</td>\n",
              "      <td>3.000000</td>\n",
              "      <td>3.000000</td>\n",
              "    </tr>\n",
              "    <tr>\n",
              "      <th>25%</th>\n",
              "      <td>110.750000</td>\n",
              "      <td>3111.250000</td>\n",
              "      <td>1525.250000</td>\n",
              "      <td>2153.00000</td>\n",
              "      <td>744.000000</td>\n",
              "      <td>256.500000</td>\n",
              "      <td>411.250000</td>\n",
              "    </tr>\n",
              "    <tr>\n",
              "      <th>50%</th>\n",
              "      <td>220.500000</td>\n",
              "      <td>8504.000000</td>\n",
              "      <td>3641.000000</td>\n",
              "      <td>4755.50000</td>\n",
              "      <td>1535.000000</td>\n",
              "      <td>813.000000</td>\n",
              "      <td>971.000000</td>\n",
              "    </tr>\n",
              "    <tr>\n",
              "      <th>75%</th>\n",
              "      <td>330.250000</td>\n",
              "      <td>16935.250000</td>\n",
              "      <td>7217.500000</td>\n",
              "      <td>10655.75000</td>\n",
              "      <td>3570.000000</td>\n",
              "      <td>3956.000000</td>\n",
              "      <td>1822.750000</td>\n",
              "    </tr>\n",
              "    <tr>\n",
              "      <th>max</th>\n",
              "      <td>440.000000</td>\n",
              "      <td>112151.000000</td>\n",
              "      <td>15755.875000</td>\n",
              "      <td>23409.87500</td>\n",
              "      <td>7809.000000</td>\n",
              "      <td>9505.250000</td>\n",
              "      <td>3940.000000</td>\n",
              "    </tr>\n",
              "  </tbody>\n",
              "</table>\n",
              "</div>"
            ],
            "text/plain": [
              "       Buyer/Spender          Fresh          Milk      Grocery       Frozen  \\\n",
              "count     440.000000     438.000000    440.000000    440.00000   437.000000   \n",
              "mean      220.500000   12016.009132   5073.405966   7236.37500  2520.469108   \n",
              "std       127.161315   12673.210863   4435.284867   6596.53308  2419.855198   \n",
              "min         1.000000       3.000000      1.000000      3.00000    25.000000   \n",
              "25%       110.750000    3111.250000   1525.250000   2153.00000   744.000000   \n",
              "50%       220.500000    8504.000000   3641.000000   4755.50000  1535.000000   \n",
              "75%       330.250000   16935.250000   7217.500000  10655.75000  3570.000000   \n",
              "max       440.000000  112151.000000  15755.875000  23409.87500  7809.000000   \n",
              "\n",
              "       Detergents_Paper  Delicatessen  \n",
              "count        439.000000    438.000000  \n",
              "mean        2408.965262   1271.831050  \n",
              "std         2976.297834   1083.224242  \n",
              "min            3.000000      3.000000  \n",
              "25%          256.500000    411.250000  \n",
              "50%          813.000000    971.000000  \n",
              "75%         3956.000000   1822.750000  \n",
              "max         9505.250000   3940.000000  "
            ]
          },
          "execution_count": 21,
          "metadata": {},
          "output_type": "execute_result"
        }
      ],
      "source": [
        "d.describe()"
      ]
    },
    {
      "cell_type": "markdown",
      "id": "584a2892-f8b6-4388-ab42-e76d37c6055f",
      "metadata": {
        "id": "584a2892-f8b6-4388-ab42-e76d37c6055f"
      },
      "source": [
        "* Properties of all Features.\n",
        "\n",
        "![image.png](attachment:28d8aaa6-a523-4f39-b4a5-a53c84d0159f.png)\n",
        "\n",
        "Table - 6"
      ]
    },
    {
      "cell_type": "code",
      "execution_count": null,
      "id": "11cc2c47-5d7f-493a-ae61-6d85f5275bc4",
      "metadata": {
        "id": "11cc2c47-5d7f-493a-ae61-6d85f5275bc4"
      },
      "outputs": [],
      "source": [
        "d.loc[2,\"Fresh\"]=d[\"Fresh\"].mean()\n",
        "d.loc[78,\"Fresh\"]=d[\"Fresh\"].mean()"
      ]
    },
    {
      "cell_type": "code",
      "execution_count": null,
      "id": "edbaec13-d9d1-47be-b694-5a553459c211",
      "metadata": {
        "id": "edbaec13-d9d1-47be-b694-5a553459c211",
        "outputId": "89cf6147-82db-4afa-8784-30e714082083"
      },
      "outputs": [
        {
          "data": {
            "text/html": [
              "<div>\n",
              "<style scoped>\n",
              "    .dataframe tbody tr th:only-of-type {\n",
              "        vertical-align: middle;\n",
              "    }\n",
              "\n",
              "    .dataframe tbody tr th {\n",
              "        vertical-align: top;\n",
              "    }\n",
              "\n",
              "    .dataframe thead th {\n",
              "        text-align: right;\n",
              "    }\n",
              "</style>\n",
              "<table border=\"1\" class=\"dataframe\">\n",
              "  <thead>\n",
              "    <tr style=\"text-align: right;\">\n",
              "      <th></th>\n",
              "      <th>Buyer/Spender</th>\n",
              "      <th>Channel</th>\n",
              "      <th>Region</th>\n",
              "      <th>Fresh</th>\n",
              "      <th>Milk</th>\n",
              "      <th>Grocery</th>\n",
              "      <th>Frozen</th>\n",
              "      <th>Detergents_Paper</th>\n",
              "      <th>Delicatessen</th>\n",
              "    </tr>\n",
              "  </thead>\n",
              "  <tbody>\n",
              "    <tr>\n",
              "      <th>6</th>\n",
              "      <td>7.0</td>\n",
              "      <td>Retail</td>\n",
              "      <td>Other</td>\n",
              "      <td>12126.0</td>\n",
              "      <td>3199.0</td>\n",
              "      <td>6975.0</td>\n",
              "      <td>NaN</td>\n",
              "      <td>3140.0</td>\n",
              "      <td>545.0</td>\n",
              "    </tr>\n",
              "    <tr>\n",
              "      <th>94</th>\n",
              "      <td>95.0</td>\n",
              "      <td>Retail</td>\n",
              "      <td>Other</td>\n",
              "      <td>5626.0</td>\n",
              "      <td>12220.0</td>\n",
              "      <td>11323.0</td>\n",
              "      <td>NaN</td>\n",
              "      <td>5038.0</td>\n",
              "      <td>244.0</td>\n",
              "    </tr>\n",
              "    <tr>\n",
              "      <th>164</th>\n",
              "      <td>165.0</td>\n",
              "      <td>Retail</td>\n",
              "      <td>Other</td>\n",
              "      <td>5224.0</td>\n",
              "      <td>7603.0</td>\n",
              "      <td>8584.0</td>\n",
              "      <td>NaN</td>\n",
              "      <td>3674.0</td>\n",
              "      <td>238.0</td>\n",
              "    </tr>\n",
              "  </tbody>\n",
              "</table>\n",
              "</div>"
            ],
            "text/plain": [
              "     Buyer/Spender Channel Region    Fresh     Milk  Grocery  Frozen  \\\n",
              "6              7.0  Retail  Other  12126.0   3199.0   6975.0     NaN   \n",
              "94            95.0  Retail  Other   5626.0  12220.0  11323.0     NaN   \n",
              "164          165.0  Retail  Other   5224.0   7603.0   8584.0     NaN   \n",
              "\n",
              "     Detergents_Paper  Delicatessen  \n",
              "6              3140.0         545.0  \n",
              "94             5038.0         244.0  \n",
              "164            3674.0         238.0  "
            ]
          },
          "execution_count": 23,
          "metadata": {},
          "output_type": "execute_result"
        }
      ],
      "source": [
        "d[d[\"Frozen\"].isnull()==True]"
      ]
    },
    {
      "cell_type": "code",
      "execution_count": null,
      "id": "cfd0214e-88e5-4e7b-ab2e-5d9658034e4e",
      "metadata": {
        "id": "cfd0214e-88e5-4e7b-ab2e-5d9658034e4e"
      },
      "outputs": [],
      "source": [
        "d.loc[6,\"Frozen\"]=d[\"Frozen\"].mean()\n",
        "d.loc[94,\"Frozen\"]=d[\"Frozen\"].mean()\n",
        "d.loc[164,\"Frozen\"]=d[\"Frozen\"].mean()"
      ]
    },
    {
      "cell_type": "code",
      "execution_count": null,
      "id": "6baed7a2-685c-4661-8b65-e45048d70dfa",
      "metadata": {
        "id": "6baed7a2-685c-4661-8b65-e45048d70dfa",
        "outputId": "fc3d53b2-a0df-48ff-9beb-7bc805b62cc0"
      },
      "outputs": [
        {
          "data": {
            "text/html": [
              "<div>\n",
              "<style scoped>\n",
              "    .dataframe tbody tr th:only-of-type {\n",
              "        vertical-align: middle;\n",
              "    }\n",
              "\n",
              "    .dataframe tbody tr th {\n",
              "        vertical-align: top;\n",
              "    }\n",
              "\n",
              "    .dataframe thead th {\n",
              "        text-align: right;\n",
              "    }\n",
              "</style>\n",
              "<table border=\"1\" class=\"dataframe\">\n",
              "  <thead>\n",
              "    <tr style=\"text-align: right;\">\n",
              "      <th></th>\n",
              "      <th>Buyer/Spender</th>\n",
              "      <th>Channel</th>\n",
              "      <th>Region</th>\n",
              "      <th>Fresh</th>\n",
              "      <th>Milk</th>\n",
              "      <th>Grocery</th>\n",
              "      <th>Frozen</th>\n",
              "      <th>Detergents_Paper</th>\n",
              "      <th>Delicatessen</th>\n",
              "    </tr>\n",
              "  </thead>\n",
              "  <tbody>\n",
              "    <tr>\n",
              "      <th>7</th>\n",
              "      <td>8.0</td>\n",
              "      <td>Retail</td>\n",
              "      <td>Other</td>\n",
              "      <td>7579.0</td>\n",
              "      <td>4956.0</td>\n",
              "      <td>9426.0</td>\n",
              "      <td>1669.0</td>\n",
              "      <td>NaN</td>\n",
              "      <td>2566.0</td>\n",
              "    </tr>\n",
              "  </tbody>\n",
              "</table>\n",
              "</div>"
            ],
            "text/plain": [
              "   Buyer/Spender Channel Region   Fresh    Milk  Grocery  Frozen  \\\n",
              "7            8.0  Retail  Other  7579.0  4956.0   9426.0  1669.0   \n",
              "\n",
              "   Detergents_Paper  Delicatessen  \n",
              "7               NaN        2566.0  "
            ]
          },
          "execution_count": 25,
          "metadata": {},
          "output_type": "execute_result"
        }
      ],
      "source": [
        "d[d[\"Detergents_Paper\"].isnull()==True]"
      ]
    },
    {
      "cell_type": "code",
      "execution_count": null,
      "id": "825dbf74-63f8-401d-9a33-6b72cb3e58c1",
      "metadata": {
        "id": "825dbf74-63f8-401d-9a33-6b72cb3e58c1"
      },
      "outputs": [],
      "source": [
        "d.loc[7,\"Detergents_Paper\"]=d[\"Detergents_Paper\"].mean()"
      ]
    },
    {
      "cell_type": "code",
      "execution_count": null,
      "id": "98b0f94a-54b1-4346-b8a3-f9df0e6fcff6",
      "metadata": {
        "id": "98b0f94a-54b1-4346-b8a3-f9df0e6fcff6",
        "outputId": "2dae13bb-f24c-4456-ffe2-38115402ce8b"
      },
      "outputs": [
        {
          "data": {
            "text/html": [
              "<div>\n",
              "<style scoped>\n",
              "    .dataframe tbody tr th:only-of-type {\n",
              "        vertical-align: middle;\n",
              "    }\n",
              "\n",
              "    .dataframe tbody tr th {\n",
              "        vertical-align: top;\n",
              "    }\n",
              "\n",
              "    .dataframe thead th {\n",
              "        text-align: right;\n",
              "    }\n",
              "</style>\n",
              "<table border=\"1\" class=\"dataframe\">\n",
              "  <thead>\n",
              "    <tr style=\"text-align: right;\">\n",
              "      <th></th>\n",
              "      <th>Buyer/Spender</th>\n",
              "      <th>Channel</th>\n",
              "      <th>Region</th>\n",
              "      <th>Fresh</th>\n",
              "      <th>Milk</th>\n",
              "      <th>Grocery</th>\n",
              "      <th>Frozen</th>\n",
              "      <th>Detergents_Paper</th>\n",
              "      <th>Delicatessen</th>\n",
              "    </tr>\n",
              "  </thead>\n",
              "  <tbody>\n",
              "    <tr>\n",
              "      <th>343</th>\n",
              "      <td>344.0</td>\n",
              "      <td>Retail</td>\n",
              "      <td>Other</td>\n",
              "      <td>1689.0</td>\n",
              "      <td>6964.0</td>\n",
              "      <td>23409.875</td>\n",
              "      <td>1456.0</td>\n",
              "      <td>9505.25</td>\n",
              "      <td>NaN</td>\n",
              "    </tr>\n",
              "    <tr>\n",
              "      <th>345</th>\n",
              "      <td>346.0</td>\n",
              "      <td>Hotel</td>\n",
              "      <td>Other</td>\n",
              "      <td>1198.0</td>\n",
              "      <td>2602.0</td>\n",
              "      <td>8335.000</td>\n",
              "      <td>402.0</td>\n",
              "      <td>3843.00</td>\n",
              "      <td>NaN</td>\n",
              "    </tr>\n",
              "  </tbody>\n",
              "</table>\n",
              "</div>"
            ],
            "text/plain": [
              "     Buyer/Spender Channel Region   Fresh    Milk    Grocery  Frozen  \\\n",
              "343          344.0  Retail  Other  1689.0  6964.0  23409.875  1456.0   \n",
              "345          346.0   Hotel  Other  1198.0  2602.0   8335.000   402.0   \n",
              "\n",
              "     Detergents_Paper  Delicatessen  \n",
              "343           9505.25           NaN  \n",
              "345           3843.00           NaN  "
            ]
          },
          "execution_count": 27,
          "metadata": {},
          "output_type": "execute_result"
        }
      ],
      "source": [
        "d[d[\"Delicatessen\"].isnull()==True]"
      ]
    },
    {
      "cell_type": "code",
      "execution_count": null,
      "id": "e1ca204c-31cb-443b-8956-8f9a81d543a5",
      "metadata": {
        "id": "e1ca204c-31cb-443b-8956-8f9a81d543a5"
      },
      "outputs": [],
      "source": [
        "d.loc[343,\"Delicatessen\"]=d[\"Delicatessen\"].mean()\n",
        "d.loc[345,\"Delicatessen\"]=d[\"Delicatessen\"].mean()"
      ]
    },
    {
      "cell_type": "code",
      "execution_count": null,
      "id": "cedbf3eb-c980-453f-b6da-c9faa6a32b1a",
      "metadata": {
        "id": "cedbf3eb-c980-453f-b6da-c9faa6a32b1a"
      },
      "outputs": [],
      "source": []
    },
    {
      "cell_type": "code",
      "execution_count": null,
      "id": "f27743b0-b380-4f2b-9f5c-e2da8e4a57d1",
      "metadata": {
        "id": "f27743b0-b380-4f2b-9f5c-e2da8e4a57d1",
        "outputId": "8707215a-b685-466e-f832-6b6098c65eb4"
      },
      "outputs": [
        {
          "data": {
            "text/html": [
              "<div>\n",
              "<style scoped>\n",
              "    .dataframe tbody tr th:only-of-type {\n",
              "        vertical-align: middle;\n",
              "    }\n",
              "\n",
              "    .dataframe tbody tr th {\n",
              "        vertical-align: top;\n",
              "    }\n",
              "\n",
              "    .dataframe thead th {\n",
              "        text-align: right;\n",
              "    }\n",
              "</style>\n",
              "<table border=\"1\" class=\"dataframe\">\n",
              "  <thead>\n",
              "    <tr style=\"text-align: right;\">\n",
              "      <th></th>\n",
              "      <th>Buyer/Spender</th>\n",
              "      <th>Fresh</th>\n",
              "      <th>Milk</th>\n",
              "      <th>Grocery</th>\n",
              "      <th>Frozen</th>\n",
              "      <th>Detergents_Paper</th>\n",
              "      <th>Delicatessen</th>\n",
              "    </tr>\n",
              "  </thead>\n",
              "  <tbody>\n",
              "    <tr>\n",
              "      <th>count</th>\n",
              "      <td>440.000000</td>\n",
              "      <td>440.000000</td>\n",
              "      <td>440.000000</td>\n",
              "      <td>440.00000</td>\n",
              "      <td>440.000000</td>\n",
              "      <td>440.000000</td>\n",
              "      <td>440.000000</td>\n",
              "    </tr>\n",
              "    <tr>\n",
              "      <th>mean</th>\n",
              "      <td>220.500000</td>\n",
              "      <td>12016.009132</td>\n",
              "      <td>5073.405966</td>\n",
              "      <td>7236.37500</td>\n",
              "      <td>2520.469108</td>\n",
              "      <td>2408.965262</td>\n",
              "      <td>1271.831050</td>\n",
              "    </tr>\n",
              "    <tr>\n",
              "      <th>std</th>\n",
              "      <td>127.161315</td>\n",
              "      <td>12644.309547</td>\n",
              "      <td>4435.284867</td>\n",
              "      <td>6596.53308</td>\n",
              "      <td>2411.572726</td>\n",
              "      <td>2972.906040</td>\n",
              "      <td>1080.753944</td>\n",
              "    </tr>\n",
              "    <tr>\n",
              "      <th>min</th>\n",
              "      <td>1.000000</td>\n",
              "      <td>3.000000</td>\n",
              "      <td>1.000000</td>\n",
              "      <td>3.00000</td>\n",
              "      <td>25.000000</td>\n",
              "      <td>3.000000</td>\n",
              "      <td>3.000000</td>\n",
              "    </tr>\n",
              "    <tr>\n",
              "      <th>25%</th>\n",
              "      <td>110.750000</td>\n",
              "      <td>3127.750000</td>\n",
              "      <td>1525.250000</td>\n",
              "      <td>2153.00000</td>\n",
              "      <td>761.250000</td>\n",
              "      <td>256.750000</td>\n",
              "      <td>411.750000</td>\n",
              "    </tr>\n",
              "    <tr>\n",
              "      <th>50%</th>\n",
              "      <td>220.500000</td>\n",
              "      <td>8549.000000</td>\n",
              "      <td>3641.000000</td>\n",
              "      <td>4755.50000</td>\n",
              "      <td>1567.000000</td>\n",
              "      <td>816.500000</td>\n",
              "      <td>977.500000</td>\n",
              "    </tr>\n",
              "    <tr>\n",
              "      <th>75%</th>\n",
              "      <td>330.250000</td>\n",
              "      <td>16933.750000</td>\n",
              "      <td>7217.500000</td>\n",
              "      <td>10655.75000</td>\n",
              "      <td>3554.250000</td>\n",
              "      <td>3932.500000</td>\n",
              "      <td>1820.250000</td>\n",
              "    </tr>\n",
              "    <tr>\n",
              "      <th>max</th>\n",
              "      <td>440.000000</td>\n",
              "      <td>112151.000000</td>\n",
              "      <td>15755.875000</td>\n",
              "      <td>23409.87500</td>\n",
              "      <td>7809.000000</td>\n",
              "      <td>9505.250000</td>\n",
              "      <td>3940.000000</td>\n",
              "    </tr>\n",
              "  </tbody>\n",
              "</table>\n",
              "</div>"
            ],
            "text/plain": [
              "       Buyer/Spender          Fresh          Milk      Grocery       Frozen  \\\n",
              "count     440.000000     440.000000    440.000000    440.00000   440.000000   \n",
              "mean      220.500000   12016.009132   5073.405966   7236.37500  2520.469108   \n",
              "std       127.161315   12644.309547   4435.284867   6596.53308  2411.572726   \n",
              "min         1.000000       3.000000      1.000000      3.00000    25.000000   \n",
              "25%       110.750000    3127.750000   1525.250000   2153.00000   761.250000   \n",
              "50%       220.500000    8549.000000   3641.000000   4755.50000  1567.000000   \n",
              "75%       330.250000   16933.750000   7217.500000  10655.75000  3554.250000   \n",
              "max       440.000000  112151.000000  15755.875000  23409.87500  7809.000000   \n",
              "\n",
              "       Detergents_Paper  Delicatessen  \n",
              "count        440.000000    440.000000  \n",
              "mean        2408.965262   1271.831050  \n",
              "std         2972.906040   1080.753944  \n",
              "min            3.000000      3.000000  \n",
              "25%          256.750000    411.750000  \n",
              "50%          816.500000    977.500000  \n",
              "75%         3932.500000   1820.250000  \n",
              "max         9505.250000   3940.000000  "
            ]
          },
          "execution_count": 29,
          "metadata": {},
          "output_type": "execute_result"
        }
      ],
      "source": [
        "d.describe()"
      ]
    },
    {
      "cell_type": "markdown",
      "id": "5281e23f-ea95-4318-a4c7-1c1f31fcb527",
      "metadata": {
        "id": "5281e23f-ea95-4318-a4c7-1c1f31fcb527"
      },
      "source": [
        "# 1 Spending Analysis"
      ]
    },
    {
      "cell_type": "markdown",
      "id": "d24b4905-e177-477a-b434-e53add8cafa0",
      "metadata": {
        "id": "d24b4905-e177-477a-b434-e53add8cafa0"
      },
      "source": [
        "->What is the total number of buyers in the dataset?\n"
      ]
    },
    {
      "cell_type": "code",
      "execution_count": null,
      "id": "baf4e00a-350a-4cbd-8c5f-f71e216b19f7",
      "metadata": {
        "id": "baf4e00a-350a-4cbd-8c5f-f71e216b19f7",
        "outputId": "09fe9a2b-3844-4d33-c886-dac07d617725"
      },
      "outputs": [
        {
          "data": {
            "text/plain": [
              "(440, 9)"
            ]
          },
          "execution_count": 30,
          "metadata": {},
          "output_type": "execute_result"
        }
      ],
      "source": [
        "d.shape"
      ]
    },
    {
      "cell_type": "markdown",
      "id": "17556462-d6ff-40d8-b412-b6a0201fcb24",
      "metadata": {
        "id": "17556462-d6ff-40d8-b412-b6a0201fcb24"
      },
      "source": [
        "*  The total no. of buyiers is 440"
      ]
    },
    {
      "cell_type": "code",
      "execution_count": null,
      "id": "39f45fd5-dceb-45d5-8fe5-c7c7c342cc0c",
      "metadata": {
        "id": "39f45fd5-dceb-45d5-8fe5-c7c7c342cc0c",
        "outputId": "38002155-7c5b-4f3d-e267-edb501a078e0"
      },
      "outputs": [
        {
          "data": {
            "image/png": "[encoded data removed]",
            "text/plain": [
              "<Figure size 640x480 with 1 Axes>"
            ]
          },
          "metadata": {},
          "output_type": "display_data"
        }
      ],
      "source": [
        "va=d.describe().iloc[1].values\n",
        "In=d.describe().iloc[1].index\n",
        "sns.barplot(x=In,y=va)\n",
        "plt.xticks(rotation=60);"
      ]
    },
    {
      "cell_type": "markdown",
      "id": "79893ec9-bae3-4806-9f2d-a8727079a0ba",
      "metadata": {
        "id": "79893ec9-bae3-4806-9f2d-a8727079a0ba"
      },
      "source": [
        "The average of all Features\n",
        "![image.png](attachment:e78e81f5-22bc-4f96-a41c-17bf0e283084.png)\n",
        "Fig-1.0\n",
        "\n",
        "\n",
        "![image.png](attachment:c5ff7cd0-efce-4ce9-bf98-441b7ea1c5d9.png)\n",
        "Table 1.0\n"
      ]
    },
    {
      "cell_type": "code",
      "execution_count": null,
      "id": "a36c7d8f-1ca8-4c12-aa60-49a7c0dbb27e",
      "metadata": {
        "id": "a36c7d8f-1ca8-4c12-aa60-49a7c0dbb27e",
        "outputId": "5f5692d7-600a-4def-ecba-a05fde110832"
      },
      "outputs": [
        {
          "data": {
            "text/plain": [
              "Fresh    12016.009132\n",
              "Name: mean, dtype: float64"
            ]
          },
          "execution_count": 32,
          "metadata": {},
          "output_type": "execute_result"
        }
      ],
      "source": [
        "d.describe().iloc[1][d.describe().iloc[1]==d.describe().iloc[1].max()]"
      ]
    },
    {
      "cell_type": "markdown",
      "id": "215500be-8455-4408-939a-9bd9c5a4b00e",
      "metadata": {
        "id": "215500be-8455-4408-939a-9bd9c5a4b00e"
      },
      "source": [
        "* Fresh catagory has the highest average spending."
      ]
    },
    {
      "cell_type": "code",
      "execution_count": null,
      "id": "d7410ace-6708-4d19-baf7-80723c830474",
      "metadata": {
        "id": "d7410ace-6708-4d19-baf7-80723c830474",
        "outputId": "a573c4a3-f7d4-4500-8d2f-d75d3c19aef3"
      },
      "outputs": [
        {
          "data": {
            "text/plain": [
              "159"
            ]
          },
          "execution_count": 33,
          "metadata": {},
          "output_type": "execute_result"
        }
      ],
      "source": [
        "d[d[\"Fresh\"]>d.describe().iloc[1].max()][\"Buyer/Spender\"].count()"
      ]
    },
    {
      "cell_type": "markdown",
      "id": "68918147-8339-4db2-a7cd-a673f8140ab7",
      "metadata": {
        "id": "68918147-8339-4db2-a7cd-a673f8140ab7"
      },
      "source": [
        "* 159 buyers spend above the average on Fresh Vegetables."
      ]
    },
    {
      "cell_type": "markdown",
      "id": "ae2595eb-1a58-4b95-8998-da80372189b1",
      "metadata": {
        "id": "ae2595eb-1a58-4b95-8998-da80372189b1"
      },
      "source": [
        "# 2 Regional Demand"
      ]
    },
    {
      "cell_type": "code",
      "execution_count": null,
      "id": "18007ffe-7de3-4fe9-b7a7-b6ea710031c4",
      "metadata": {
        "id": "18007ffe-7de3-4fe9-b7a7-b6ea710031c4"
      },
      "outputs": [],
      "source": [
        "d[\"TS\"]=d[\"Fresh\"]+d[\"Milk\"]+d[\"Grocery\"]+d[\"Frozen\"]+d[\"Detergents_Paper\"]+d[\"Delicatessen\"]"
      ]
    },
    {
      "cell_type": "code",
      "execution_count": null,
      "id": "2448f51f-0c62-43fe-8121-0f5a6cac7455",
      "metadata": {
        "id": "2448f51f-0c62-43fe-8121-0f5a6cac7455",
        "outputId": "f3e0353b-1b50-4d5c-c333-5b19e3cdc8b4"
      },
      "outputs": [
        {
          "data": {
            "text/plain": [
              "Region\n",
              "Lisbon    2.190616e+06\n",
              "Oporto    1.300669e+06\n",
              "Other     9.790238e+06\n",
              "Name: TS, dtype: float64"
            ]
          },
          "execution_count": 42,
          "metadata": {},
          "output_type": "execute_result"
        }
      ],
      "source": [
        "d.groupby(\"Region\")[\"TS\"].sum()"
      ]
    },
    {
      "cell_type": "markdown",
      "id": "137554ea-2f65-497d-bf25-eeb2bffd088c",
      "metadata": {
        "id": "137554ea-2f65-497d-bf25-eeb2bffd088c"
      },
      "source": [
        "->The total spending in each region is :\n",
        "\n",
        "Lisbon : 2.190616e+06.\n",
        "\n",
        "Oporto : 1.300669e+06.\n",
        "\n",
        "Other  : 9.790238e+.06"
      ]
    },
    {
      "cell_type": "code",
      "execution_count": null,
      "id": "49c6a30f-9dbd-4b10-ba4b-8668a9e931cb",
      "metadata": {
        "id": "49c6a30f-9dbd-4b10-ba4b-8668a9e931cb",
        "outputId": "2d7c25a6-e48e-453b-e316-516f407f4357"
      },
      "outputs": [
        {
          "data": {
            "text/plain": [
              "Region\n",
              "Lisbon     373927.500\n",
              "Oporto     217521.625\n",
              "Other     1616720.625\n",
              "Name: Milk, dtype: float64"
            ]
          },
          "execution_count": 44,
          "metadata": {},
          "output_type": "execute_result"
        }
      ],
      "source": [
        "d.groupby(\"Region\")[\"Milk\"].sum()"
      ]
    },
    {
      "cell_type": "code",
      "execution_count": null,
      "id": "152c5975-095f-48f0-babe-592db8d5d083",
      "metadata": {
        "id": "152c5975-095f-48f0-babe-592db8d5d083",
        "outputId": "a281cacd-ee84-43e7-9ef0-f325745accdb"
      },
      "outputs": [
        {
          "data": {
            "text/plain": [
              "<Axes: xlabel='Region', ylabel='Milk'>"
            ]
          },
          "execution_count": 63,
          "metadata": {},
          "output_type": "execute_result"
        },
        {
          "data": {
            "image/png": "[encoded data removed]",
            "text/plain": [
              "<Figure size 1000x300 with 1 Axes>"
            ]
          },
          "metadata": {},
          "output_type": "display_data"
        }
      ],
      "source": [
        "plt.figure(figsize=(10,3))\n",
        "sns.barplot(data=d,x=\"Region\",y=\"Milk\")"
      ]
    },
    {
      "cell_type": "markdown",
      "id": "ffc39517-9c21-4884-9451-e53e6e9220de",
      "metadata": {
        "id": "ffc39517-9c21-4884-9451-e53e6e9220de"
      },
      "source": [
        "* Other region has highest spending on Milk."
      ]
    },
    {
      "cell_type": "code",
      "execution_count": null,
      "id": "ee6d0299-48eb-4797-82f7-473e24ea4ec0",
      "metadata": {
        "id": "ee6d0299-48eb-4797-82f7-473e24ea4ec0",
        "outputId": "e3da88a3-6eb4-4e19-c35f-cfef00449e98"
      },
      "outputs": [
        {
          "data": {
            "text/plain": [
              "Region\n",
              "Lisbon    6717.433333\n",
              "Oporto    8601.130814\n",
              "Other     7184.794304\n",
              "Name: Grocery, dtype: float64"
            ]
          },
          "execution_count": 46,
          "metadata": {},
          "output_type": "execute_result"
        }
      ],
      "source": [
        "d.groupby(\"Region\")[\"Grocery\"].mean()\n"
      ]
    },
    {
      "cell_type": "markdown",
      "id": "bddbad53-fdff-41b0-8c9c-bcd5aa4656a9",
      "metadata": {
        "id": "bddbad53-fdff-41b0-8c9c-bcd5aa4656a9"
      },
      "source": [
        "* Average spending on grocery is highest in \"Other\" Region and lowest in \"Lisbon\" ."
      ]
    },
    {
      "cell_type": "code",
      "execution_count": null,
      "id": "937f2a75-50a2-43ee-8efd-ca15cefc6427",
      "metadata": {
        "id": "937f2a75-50a2-43ee-8efd-ca15cefc6427",
        "outputId": "a3c924bb-b2fa-4dc8-9442-86b3fdbf2664"
      },
      "outputs": [
        {
          "data": {
            "text/plain": [
              "Region\n",
              "Lisbon    29208.220000\n",
              "Oporto    30248.110465\n",
              "Other     30981.766386\n",
              "Name: TS, dtype: float64"
            ]
          },
          "execution_count": 59,
          "metadata": {},
          "output_type": "execute_result"
        }
      ],
      "source": [
        "d.groupby(\"Region\")[\"TS\"].mean()"
      ]
    },
    {
      "cell_type": "markdown",
      "id": "ee9720ce-2ef2-405c-b81a-e475fdf35481",
      "metadata": {
        "id": "ee9720ce-2ef2-405c-b81a-e475fdf35481"
      },
      "source": [
        "* \"Oporto\" region has the highest average spending per buyer."
      ]
    },
    {
      "cell_type": "markdown",
      "id": "e025ff50-7d8d-486d-a4bd-de3e74afefc5",
      "metadata": {
        "id": "e025ff50-7d8d-486d-a4bd-de3e74afefc5"
      },
      "source": [
        "# 3 Category Preferences"
      ]
    },
    {
      "cell_type": "code",
      "execution_count": null,
      "id": "72ba6ce4-8d99-4bc8-b442-4cd3115d64b6",
      "metadata": {
        "id": "72ba6ce4-8d99-4bc8-b442-4cd3115d64b6",
        "outputId": "ee427da5-4e92-4434-9dfe-41c77358c603"
      },
      "outputs": [
        {
          "data": {
            "text/plain": [
              "66.13636363636364"
            ]
          },
          "execution_count": 73,
          "metadata": {},
          "output_type": "execute_result"
        }
      ],
      "source": [
        "d[d[\"Frozen\"]>d[\"Delicatessen\"]].count().iloc[0]/440*100"
      ]
    },
    {
      "cell_type": "markdown",
      "id": "db3524d9-c155-4b83-bfd9-32f04a7f1624",
      "metadata": {
        "id": "db3524d9-c155-4b83-bfd9-32f04a7f1624"
      },
      "source": [
        "* 66.13636363636364 percentage of buyers spend more on Frozen food compared to Delicatessen."
      ]
    },
    {
      "cell_type": "code",
      "execution_count": null,
      "id": "ad61a1df-6235-451a-a934-795d81d12ad2",
      "metadata": {
        "id": "ad61a1df-6235-451a-a934-795d81d12ad2",
        "outputId": "63b9296b-f207-45a6-9af4-32629998e6eb"
      },
      "outputs": [
        {
          "data": {
            "text/plain": [
              "Buyer/Spender         127.161315\n",
              "Fresh               12644.309547\n",
              "Milk                 4435.284867\n",
              "Grocery              6596.533080\n",
              "Frozen               2411.572726\n",
              "Detergents_Paper     2972.906040\n",
              "Delicatessen         1080.753944\n",
              "Name: std, dtype: float64"
            ]
          },
          "execution_count": 89,
          "metadata": {},
          "output_type": "execute_result"
        }
      ],
      "source": [
        "b=d.describe().iloc[2][d.describe().iloc[2]<d.describe().iloc[2].max()]"
      ]
    },
    {
      "cell_type": "code",
      "execution_count": null,
      "id": "0b227a0d-04ea-4439-84dc-89c5dfacd815",
      "metadata": {
        "id": "0b227a0d-04ea-4439-84dc-89c5dfacd815",
        "outputId": "b5ab4882-5888-4eb6-c5c0-ba2389f24755"
      },
      "outputs": [
        {
          "data": {
            "text/plain": [
              "Fresh    8557.137637\n",
              "Name: std, dtype: float64"
            ]
          },
          "execution_count": 90,
          "metadata": {},
          "output_type": "execute_result"
        }
      ],
      "source": [
        "b.describe().iloc[2][b.describe().iloc[2]==b.describe().iloc[2].max()]"
      ]
    },
    {
      "cell_type": "markdown",
      "id": "e155ffa9-8050-4ad6-808a-c537ea629f77",
      "metadata": {
        "id": "e155ffa9-8050-4ad6-808a-c537ea629f77"
      },
      "source": [
        "* Fresh category shows the most variation in spending among buyers"
      ]
    },
    {
      "cell_type": "code",
      "execution_count": null,
      "id": "aae1cbac-c98c-42d6-8e9e-e0d483f80074",
      "metadata": {
        "id": "aae1cbac-c98c-42d6-8e9e-e0d483f80074",
        "outputId": "4d8797bc-f1e1-4f7b-81ff-f032916b07a1"
      },
      "outputs": [
        {
          "data": {
            "text/plain": [
              "213    Lisbon\n",
              "228    Lisbon\n",
              "Name: Region, dtype: object"
            ]
          },
          "execution_count": 95,
          "metadata": {},
          "output_type": "execute_result"
        }
      ],
      "source": [
        "d[(d[\"Fresh\"]<d[\"Detergents_Paper\"])&(d[\"Milk\"]<d[\"Detergents_Paper\"])&(d[\"Detergents_Paper\"]>d[\"Grocery\"])&(d[\"Detergents_Paper\"]>d[\"Frozen\"])&(d[\"Detergents_Paper\"]>d[\"Delicatessen\"])][\"Region\"]"
      ]
    },
    {
      "cell_type": "markdown",
      "id": "def78af7-d0cc-4334-8507-d74d9399e9cf",
      "metadata": {
        "id": "def78af7-d0cc-4334-8507-d74d9399e9cf"
      },
      "source": [
        "* Lisbon is the region where spending on Detergents_paper is significantly higher than others"
      ]
    },
    {
      "cell_type": "code",
      "execution_count": null,
      "id": "5a6fa010-7157-4343-8f35-8924c2b5c4e1",
      "metadata": {
        "id": "5a6fa010-7157-4343-8f35-8924c2b5c4e1",
        "outputId": "eedecf1e-3088-4429-a759-e4a5a55b773c"
      },
      "outputs": [
        {
          "data": {
            "image/png": "[encoded data removed]",
            "text/plain": [
              "<Figure size 1000x300 with 2 Axes>"
            ]
          },
          "metadata": {},
          "output_type": "display_data"
        }
      ],
      "source": [
        "corr=d[['Fresh','Frozen']].corr()\n",
        "plt.figure(figsize=(10,3))1\n",
        "sns.heatmap(corr, annot= True);"
      ]
    },
    {
      "cell_type": "markdown",
      "id": "10dc49b5-a202-4b86-8c8f-fd38e5500a02",
      "metadata": {
        "id": "10dc49b5-a202-4b86-8c8f-fd38e5500a02"
      },
      "source": [
        "* 0.37 is the correlation between spending on Fresh and Frozen food\n",
        "\n",
        "![image.png](attachment:f9820a4a-cf02-4803-a0da-b676e332e48e.png)\n",
        "\n",
        "Fig - 3"
      ]
    },
    {
      "cell_type": "markdown",
      "id": "d0702f54-4d96-4330-a888-59b6f751638f",
      "metadata": {
        "id": "d0702f54-4d96-4330-a888-59b6f751638f"
      },
      "source": [
        "# 4 Customer Segment"
      ]
    },
    {
      "cell_type": "code",
      "execution_count": null,
      "id": "d2d9f27c-a302-45b7-86fc-0446b05e159d",
      "metadata": {
        "id": "d2d9f27c-a302-45b7-86fc-0446b05e159d",
        "outputId": "9cd9320e-a98d-4ab4-a61e-12f1810c998d"
      },
      "outputs": [
        {
          "data": {
            "text/html": [
              "<div>\n",
              "<style scoped>\n",
              "    .dataframe tbody tr th:only-of-type {\n",
              "        vertical-align: middle;\n",
              "    }\n",
              "\n",
              "    .dataframe tbody tr th {\n",
              "        vertical-align: top;\n",
              "    }\n",
              "\n",
              "    .dataframe thead th {\n",
              "        text-align: right;\n",
              "    }\n",
              "</style>\n",
              "<table border=\"1\" class=\"dataframe\">\n",
              "  <thead>\n",
              "    <tr style=\"text-align: right;\">\n",
              "      <th></th>\n",
              "      <th>Buyer/Spender</th>\n",
              "      <th>Fresh</th>\n",
              "      <th>Milk</th>\n",
              "      <th>Grocery</th>\n",
              "      <th>Frozen</th>\n",
              "      <th>Detergents_Paper</th>\n",
              "      <th>Delicatessen</th>\n",
              "      <th>TS</th>\n",
              "    </tr>\n",
              "  </thead>\n",
              "  <tbody>\n",
              "    <tr>\n",
              "      <th>count</th>\n",
              "      <td>44.000000</td>\n",
              "      <td>44.000000</td>\n",
              "      <td>44.000000</td>\n",
              "      <td>44.000000</td>\n",
              "      <td>44.000000</td>\n",
              "      <td>44.000000</td>\n",
              "      <td>44.000000</td>\n",
              "      <td>44.000000</td>\n",
              "    </tr>\n",
              "    <tr>\n",
              "      <th>mean</th>\n",
              "      <td>211.568182</td>\n",
              "      <td>40693.909091</td>\n",
              "      <td>5782.437500</td>\n",
              "      <td>7237.403409</td>\n",
              "      <td>4467.613636</td>\n",
              "      <td>1342.965909</td>\n",
              "      <td>1926.931818</td>\n",
              "      <td>61451.261364</td>\n",
              "    </tr>\n",
              "    <tr>\n",
              "      <th>std</th>\n",
              "      <td>131.158416</td>\n",
              "      <td>15627.339389</td>\n",
              "      <td>5031.556791</td>\n",
              "      <td>6089.871474</td>\n",
              "      <td>2790.905690</td>\n",
              "      <td>2132.859038</td>\n",
              "      <td>1229.882191</td>\n",
              "      <td>23017.808913</td>\n",
              "    </tr>\n",
              "    <tr>\n",
              "      <th>min</th>\n",
              "      <td>13.000000</td>\n",
              "      <td>27167.000000</td>\n",
              "      <td>286.000000</td>\n",
              "      <td>471.000000</td>\n",
              "      <td>287.000000</td>\n",
              "      <td>20.000000</td>\n",
              "      <td>3.000000</td>\n",
              "      <td>34698.000000</td>\n",
              "    </tr>\n",
              "    <tr>\n",
              "      <th>25%</th>\n",
              "      <td>100.000000</td>\n",
              "      <td>30562.750000</td>\n",
              "      <td>2054.250000</td>\n",
              "      <td>2493.250000</td>\n",
              "      <td>1726.250000</td>\n",
              "      <td>211.500000</td>\n",
              "      <td>1067.750000</td>\n",
              "      <td>47412.500000</td>\n",
              "    </tr>\n",
              "    <tr>\n",
              "      <th>50%</th>\n",
              "      <td>218.500000</td>\n",
              "      <td>36832.000000</td>\n",
              "      <td>3954.500000</td>\n",
              "      <td>5428.500000</td>\n",
              "      <td>4494.500000</td>\n",
              "      <td>601.500000</td>\n",
              "      <td>1821.500000</td>\n",
              "      <td>55118.500000</td>\n",
              "    </tr>\n",
              "    <tr>\n",
              "      <th>75%</th>\n",
              "      <td>295.500000</td>\n",
              "      <td>43565.250000</td>\n",
              "      <td>7265.500000</td>\n",
              "      <td>8578.250000</td>\n",
              "      <td>7809.000000</td>\n",
              "      <td>1324.000000</td>\n",
              "      <td>2880.250000</td>\n",
              "      <td>68336.250000</td>\n",
              "    </tr>\n",
              "    <tr>\n",
              "      <th>max</th>\n",
              "      <td>437.000000</td>\n",
              "      <td>112151.000000</td>\n",
              "      <td>15755.875000</td>\n",
              "      <td>23409.875000</td>\n",
              "      <td>7809.000000</td>\n",
              "      <td>9505.250000</td>\n",
              "      <td>3940.000000</td>\n",
              "      <td>162751.875000</td>\n",
              "    </tr>\n",
              "  </tbody>\n",
              "</table>\n",
              "</div>"
            ],
            "text/plain": [
              "       Buyer/Spender          Fresh          Milk       Grocery       Frozen  \\\n",
              "count      44.000000      44.000000     44.000000     44.000000    44.000000   \n",
              "mean      211.568182   40693.909091   5782.437500   7237.403409  4467.613636   \n",
              "std       131.158416   15627.339389   5031.556791   6089.871474  2790.905690   \n",
              "min        13.000000   27167.000000    286.000000    471.000000   287.000000   \n",
              "25%       100.000000   30562.750000   2054.250000   2493.250000  1726.250000   \n",
              "50%       218.500000   36832.000000   3954.500000   5428.500000  4494.500000   \n",
              "75%       295.500000   43565.250000   7265.500000   8578.250000  7809.000000   \n",
              "max       437.000000  112151.000000  15755.875000  23409.875000  7809.000000   \n",
              "\n",
              "       Detergents_Paper  Delicatessen             TS  \n",
              "count         44.000000     44.000000      44.000000  \n",
              "mean        1342.965909   1926.931818   61451.261364  \n",
              "std         2132.859038   1229.882191   23017.808913  \n",
              "min           20.000000      3.000000   34698.000000  \n",
              "25%          211.500000   1067.750000   47412.500000  \n",
              "50%          601.500000   1821.500000   55118.500000  \n",
              "75%         1324.000000   2880.250000   68336.250000  \n",
              "max         9505.250000   3940.000000  162751.875000  "
            ]
          },
          "execution_count": 104,
          "metadata": {},
          "output_type": "execute_result"
        }
      ],
      "source": [
        "t = d[d['Fresh'] > d['Fresh'].quantile(0.90)]\n",
        "t.describe()"
      ]
    },
    {
      "cell_type": "markdown",
      "id": "68dc592d-8661-4f64-adc8-5b95f985086e",
      "metadata": {
        "id": "68dc592d-8661-4f64-adc8-5b95f985086e"
      },
      "source": [
        "![image.png](attachment:899dac74-03db-43b4-8bcf-944f9d8c638e.png)\n",
        "\n",
        "Table - 6"
      ]
    },
    {
      "cell_type": "code",
      "execution_count": null,
      "id": "bf0ac926-e0b8-4067-9b55-cab5ead33714",
      "metadata": {
        "id": "bf0ac926-e0b8-4067-9b55-cab5ead33714",
        "outputId": "3a723ec3-f0b0-41a5-a045-dcd9252d9ba2"
      },
      "outputs": [
        {
          "data": {
            "text/html": [
              "<div>\n",
              "<style scoped>\n",
              "    .dataframe tbody tr th:only-of-type {\n",
              "        vertical-align: middle;\n",
              "    }\n",
              "\n",
              "    .dataframe tbody tr th {\n",
              "        vertical-align: top;\n",
              "    }\n",
              "\n",
              "    .dataframe thead th {\n",
              "        text-align: right;\n",
              "    }\n",
              "</style>\n",
              "<table border=\"1\" class=\"dataframe\">\n",
              "  <thead>\n",
              "    <tr style=\"text-align: right;\">\n",
              "      <th></th>\n",
              "      <th>Buyer/Spender</th>\n",
              "      <th>Fresh</th>\n",
              "      <th>Milk</th>\n",
              "      <th>Grocery</th>\n",
              "      <th>Frozen</th>\n",
              "      <th>Detergents_Paper</th>\n",
              "      <th>Delicatessen</th>\n",
              "      <th>TS</th>\n",
              "    </tr>\n",
              "  </thead>\n",
              "  <tbody>\n",
              "    <tr>\n",
              "      <th>count</th>\n",
              "      <td>44.000000</td>\n",
              "      <td>44.000000</td>\n",
              "      <td>44.000000</td>\n",
              "      <td>44.000000</td>\n",
              "      <td>44.000000</td>\n",
              "      <td>44.000000</td>\n",
              "      <td>44.000000</td>\n",
              "      <td>44.000000</td>\n",
              "    </tr>\n",
              "    <tr>\n",
              "      <th>mean</th>\n",
              "      <td>196.500000</td>\n",
              "      <td>13573.431818</td>\n",
              "      <td>15042.286932</td>\n",
              "      <td>18611.653409</td>\n",
              "      <td>2930.409091</td>\n",
              "      <td>6599.909091</td>\n",
              "      <td>2077.000000</td>\n",
              "      <td>58834.690341</td>\n",
              "    </tr>\n",
              "    <tr>\n",
              "      <th>std</th>\n",
              "      <td>126.616524</td>\n",
              "      <td>18946.973787</td>\n",
              "      <td>1145.466730</td>\n",
              "      <td>6383.194773</td>\n",
              "      <td>2541.921406</td>\n",
              "      <td>3619.303961</td>\n",
              "      <td>1429.678839</td>\n",
              "      <td>22064.216903</td>\n",
              "    </tr>\n",
              "    <tr>\n",
              "      <th>min</th>\n",
              "      <td>12.000000</td>\n",
              "      <td>85.000000</td>\n",
              "      <td>12653.000000</td>\n",
              "      <td>1660.000000</td>\n",
              "      <td>33.000000</td>\n",
              "      <td>51.000000</td>\n",
              "      <td>3.000000</td>\n",
              "      <td>26953.000000</td>\n",
              "    </tr>\n",
              "    <tr>\n",
              "      <th>25%</th>\n",
              "      <td>75.000000</td>\n",
              "      <td>4109.250000</td>\n",
              "      <td>14580.500000</td>\n",
              "      <td>16381.750000</td>\n",
              "      <td>957.500000</td>\n",
              "      <td>3904.500000</td>\n",
              "      <td>803.750000</td>\n",
              "      <td>49111.656250</td>\n",
              "    </tr>\n",
              "    <tr>\n",
              "      <th>50%</th>\n",
              "      <td>192.500000</td>\n",
              "      <td>6301.000000</td>\n",
              "      <td>15755.875000</td>\n",
              "      <td>21550.500000</td>\n",
              "      <td>1824.500000</td>\n",
              "      <td>8678.000000</td>\n",
              "      <td>1584.000000</td>\n",
              "      <td>55459.500000</td>\n",
              "    </tr>\n",
              "    <tr>\n",
              "      <th>75%</th>\n",
              "      <td>307.750000</td>\n",
              "      <td>14802.000000</td>\n",
              "      <td>15755.875000</td>\n",
              "      <td>23409.875000</td>\n",
              "      <td>4490.250000</td>\n",
              "      <td>9505.250000</td>\n",
              "      <td>3940.000000</td>\n",
              "      <td>65090.281250</td>\n",
              "    </tr>\n",
              "    <tr>\n",
              "      <th>max</th>\n",
              "      <td>438.000000</td>\n",
              "      <td>112151.000000</td>\n",
              "      <td>15755.875000</td>\n",
              "      <td>23409.875000</td>\n",
              "      <td>7809.000000</td>\n",
              "      <td>9505.250000</td>\n",
              "      <td>3940.000000</td>\n",
              "      <td>162751.875000</td>\n",
              "    </tr>\n",
              "  </tbody>\n",
              "</table>\n",
              "</div>"
            ],
            "text/plain": [
              "       Buyer/Spender          Fresh          Milk       Grocery       Frozen  \\\n",
              "count      44.000000      44.000000     44.000000     44.000000    44.000000   \n",
              "mean      196.500000   13573.431818  15042.286932  18611.653409  2930.409091   \n",
              "std       126.616524   18946.973787   1145.466730   6383.194773  2541.921406   \n",
              "min        12.000000      85.000000  12653.000000   1660.000000    33.000000   \n",
              "25%        75.000000    4109.250000  14580.500000  16381.750000   957.500000   \n",
              "50%       192.500000    6301.000000  15755.875000  21550.500000  1824.500000   \n",
              "75%       307.750000   14802.000000  15755.875000  23409.875000  4490.250000   \n",
              "max       438.000000  112151.000000  15755.875000  23409.875000  7809.000000   \n",
              "\n",
              "       Detergents_Paper  Delicatessen             TS  \n",
              "count         44.000000     44.000000      44.000000  \n",
              "mean        6599.909091   2077.000000   58834.690341  \n",
              "std         3619.303961   1429.678839   22064.216903  \n",
              "min           51.000000      3.000000   26953.000000  \n",
              "25%         3904.500000    803.750000   49111.656250  \n",
              "50%         8678.000000   1584.000000   55459.500000  \n",
              "75%         9505.250000   3940.000000   65090.281250  \n",
              "max         9505.250000   3940.000000  162751.875000  "
            ]
          },
          "execution_count": 105,
          "metadata": {},
          "output_type": "execute_result"
        }
      ],
      "source": [
        "t = d[d['Milk'] > d['Milk'].quantile(0.90)]\n",
        "t.describe()"
      ]
    },
    {
      "cell_type": "code",
      "execution_count": null,
      "id": "26698bd6-0be2-4724-860c-d534b5e08924",
      "metadata": {
        "id": "26698bd6-0be2-4724-860c-d534b5e08924",
        "outputId": "bc74f83b-8518-408d-e5e4-d746bef4a015"
      },
      "outputs": [
        {
          "data": {
            "text/html": [
              "<div>\n",
              "<style scoped>\n",
              "    .dataframe tbody tr th:only-of-type {\n",
              "        vertical-align: middle;\n",
              "    }\n",
              "\n",
              "    .dataframe tbody tr th {\n",
              "        vertical-align: top;\n",
              "    }\n",
              "\n",
              "    .dataframe thead th {\n",
              "        text-align: right;\n",
              "    }\n",
              "</style>\n",
              "<table border=\"1\" class=\"dataframe\">\n",
              "  <thead>\n",
              "    <tr style=\"text-align: right;\">\n",
              "      <th></th>\n",
              "      <th>Buyer/Spender</th>\n",
              "      <th>Fresh</th>\n",
              "      <th>Milk</th>\n",
              "      <th>Grocery</th>\n",
              "      <th>Frozen</th>\n",
              "      <th>Detergents_Paper</th>\n",
              "      <th>Delicatessen</th>\n",
              "      <th>TS</th>\n",
              "    </tr>\n",
              "  </thead>\n",
              "  <tbody>\n",
              "    <tr>\n",
              "      <th>count</th>\n",
              "      <td>44.000000</td>\n",
              "      <td>44.000000</td>\n",
              "      <td>44.000000</td>\n",
              "      <td>44.000000</td>\n",
              "      <td>44.000000</td>\n",
              "      <td>44.000000</td>\n",
              "      <td>44.000000</td>\n",
              "      <td>44.000000</td>\n",
              "    </tr>\n",
              "    <tr>\n",
              "      <th>mean</th>\n",
              "      <td>187.954545</td>\n",
              "      <td>8894.090909</td>\n",
              "      <td>12151.701705</td>\n",
              "      <td>22281.181818</td>\n",
              "      <td>2088.204545</td>\n",
              "      <td>8243.971591</td>\n",
              "      <td>1875.882524</td>\n",
              "      <td>55535.033092</td>\n",
              "    </tr>\n",
              "    <tr>\n",
              "      <th>std</th>\n",
              "      <td>116.049700</td>\n",
              "      <td>10724.302876</td>\n",
              "      <td>4454.071193</td>\n",
              "      <td>1462.146367</td>\n",
              "      <td>2031.173467</td>\n",
              "      <td>2283.654594</td>\n",
              "      <td>1369.415870</td>\n",
              "      <td>14955.597318</td>\n",
              "    </tr>\n",
              "    <tr>\n",
              "      <th>min</th>\n",
              "      <td>24.000000</td>\n",
              "      <td>37.000000</td>\n",
              "      <td>1266.000000</td>\n",
              "      <td>19172.000000</td>\n",
              "      <td>36.000000</td>\n",
              "      <td>239.000000</td>\n",
              "      <td>3.000000</td>\n",
              "      <td>30578.000000</td>\n",
              "    </tr>\n",
              "    <tr>\n",
              "      <th>25%</th>\n",
              "      <td>76.500000</td>\n",
              "      <td>1357.000000</td>\n",
              "      <td>9418.250000</td>\n",
              "      <td>21162.750000</td>\n",
              "      <td>758.500000</td>\n",
              "      <td>7506.750000</td>\n",
              "      <td>714.500000</td>\n",
              "      <td>46743.187500</td>\n",
              "    </tr>\n",
              "    <tr>\n",
              "      <th>50%</th>\n",
              "      <td>179.000000</td>\n",
              "      <td>5074.000000</td>\n",
              "      <td>14234.000000</td>\n",
              "      <td>23409.875000</td>\n",
              "      <td>1365.000000</td>\n",
              "      <td>9505.250000</td>\n",
              "      <td>1437.500000</td>\n",
              "      <td>53354.750000</td>\n",
              "    </tr>\n",
              "    <tr>\n",
              "      <th>75%</th>\n",
              "      <td>302.750000</td>\n",
              "      <td>12140.500000</td>\n",
              "      <td>15755.875000</td>\n",
              "      <td>23409.875000</td>\n",
              "      <td>2770.000000</td>\n",
              "      <td>9505.250000</td>\n",
              "      <td>2992.250000</td>\n",
              "      <td>62788.750000</td>\n",
              "    </tr>\n",
              "    <tr>\n",
              "      <th>max</th>\n",
              "      <td>438.000000</td>\n",
              "      <td>44466.000000</td>\n",
              "      <td>15755.875000</td>\n",
              "      <td>23409.875000</td>\n",
              "      <td>7809.000000</td>\n",
              "      <td>9505.250000</td>\n",
              "      <td>3940.000000</td>\n",
              "      <td>104859.000000</td>\n",
              "    </tr>\n",
              "  </tbody>\n",
              "</table>\n",
              "</div>"
            ],
            "text/plain": [
              "       Buyer/Spender         Fresh          Milk       Grocery       Frozen  \\\n",
              "count      44.000000     44.000000     44.000000     44.000000    44.000000   \n",
              "mean      187.954545   8894.090909  12151.701705  22281.181818  2088.204545   \n",
              "std       116.049700  10724.302876   4454.071193   1462.146367  2031.173467   \n",
              "min        24.000000     37.000000   1266.000000  19172.000000    36.000000   \n",
              "25%        76.500000   1357.000000   9418.250000  21162.750000   758.500000   \n",
              "50%       179.000000   5074.000000  14234.000000  23409.875000  1365.000000   \n",
              "75%       302.750000  12140.500000  15755.875000  23409.875000  2770.000000   \n",
              "max       438.000000  44466.000000  15755.875000  23409.875000  7809.000000   \n",
              "\n",
              "       Detergents_Paper  Delicatessen             TS  \n",
              "count         44.000000     44.000000      44.000000  \n",
              "mean        8243.971591   1875.882524   55535.033092  \n",
              "std         2283.654594   1369.415870   14955.597318  \n",
              "min          239.000000      3.000000   30578.000000  \n",
              "25%         7506.750000    714.500000   46743.187500  \n",
              "50%         9505.250000   1437.500000   53354.750000  \n",
              "75%         9505.250000   2992.250000   62788.750000  \n",
              "max         9505.250000   3940.000000  104859.000000  "
            ]
          },
          "execution_count": 107,
          "metadata": {},
          "output_type": "execute_result"
        }
      ],
      "source": [
        "t = d[d['Grocery'] > d['Grocery'].quantile(0.90)]\n",
        "t.describe()"
      ]
    },
    {
      "cell_type": "markdown",
      "id": "81ab6276-2d0b-4659-9aec-1d0a85f83da0",
      "metadata": {
        "id": "81ab6276-2d0b-4659-9aec-1d0a85f83da0"
      },
      "source": [
        "![image.png](attachment:629499f8-50b4-45a3-b1b9-259799aa5877.png)\n",
        "\n",
        "Table - 7"
      ]
    },
    {
      "cell_type": "code",
      "execution_count": null,
      "id": "e21f91de-6ba0-459f-aef9-3a392a8b0cff",
      "metadata": {
        "id": "e21f91de-6ba0-459f-aef9-3a392a8b0cff",
        "outputId": "1adbe0a1-8d57-4ea4-a682-c749f845eff2"
      },
      "outputs": [
        {
          "data": {
            "text/html": [
              "<div>\n",
              "<style scoped>\n",
              "    .dataframe tbody tr th:only-of-type {\n",
              "        vertical-align: middle;\n",
              "    }\n",
              "\n",
              "    .dataframe tbody tr th {\n",
              "        vertical-align: top;\n",
              "    }\n",
              "\n",
              "    .dataframe thead th {\n",
              "        text-align: right;\n",
              "    }\n",
              "</style>\n",
              "<table border=\"1\" class=\"dataframe\">\n",
              "  <thead>\n",
              "    <tr style=\"text-align: right;\">\n",
              "      <th></th>\n",
              "      <th>Buyer/Spender</th>\n",
              "      <th>Fresh</th>\n",
              "      <th>Milk</th>\n",
              "      <th>Grocery</th>\n",
              "      <th>Frozen</th>\n",
              "      <th>Detergents_Paper</th>\n",
              "      <th>Delicatessen</th>\n",
              "      <th>TS</th>\n",
              "    </tr>\n",
              "  </thead>\n",
              "  <tbody>\n",
              "    <tr>\n",
              "      <th>count</th>\n",
              "      <td>44.000000</td>\n",
              "      <td>44.000000</td>\n",
              "      <td>44.000000</td>\n",
              "      <td>44.000000</td>\n",
              "      <td>44.000000</td>\n",
              "      <td>44.000000</td>\n",
              "      <td>44.000000</td>\n",
              "      <td>44.000000</td>\n",
              "    </tr>\n",
              "    <tr>\n",
              "      <th>mean</th>\n",
              "      <td>239.886364</td>\n",
              "      <td>24000.931818</td>\n",
              "      <td>5033.892045</td>\n",
              "      <td>5981.201705</td>\n",
              "      <td>7805.522727</td>\n",
              "      <td>890.301136</td>\n",
              "      <td>1882.704545</td>\n",
              "      <td>45594.553977</td>\n",
              "    </tr>\n",
              "    <tr>\n",
              "      <th>std</th>\n",
              "      <td>132.228522</td>\n",
              "      <td>21712.055604</td>\n",
              "      <td>4819.802776</td>\n",
              "      <td>5364.072425</td>\n",
              "      <td>19.333654</td>\n",
              "      <td>1555.474522</td>\n",
              "      <td>1213.047087</td>\n",
              "      <td>29160.788189</td>\n",
              "    </tr>\n",
              "    <tr>\n",
              "      <th>min</th>\n",
              "      <td>23.000000</td>\n",
              "      <td>3.000000</td>\n",
              "      <td>333.000000</td>\n",
              "      <td>683.000000</td>\n",
              "      <td>7683.000000</td>\n",
              "      <td>15.000000</td>\n",
              "      <td>46.000000</td>\n",
              "      <td>15731.000000</td>\n",
              "    </tr>\n",
              "    <tr>\n",
              "      <th>25%</th>\n",
              "      <td>110.750000</td>\n",
              "      <td>10141.500000</td>\n",
              "      <td>1880.250000</td>\n",
              "      <td>2514.750000</td>\n",
              "      <td>7809.000000</td>\n",
              "      <td>244.250000</td>\n",
              "      <td>905.500000</td>\n",
              "      <td>27460.250000</td>\n",
              "    </tr>\n",
              "    <tr>\n",
              "      <th>50%</th>\n",
              "      <td>259.500000</td>\n",
              "      <td>18408.000000</td>\n",
              "      <td>3488.500000</td>\n",
              "      <td>4604.500000</td>\n",
              "      <td>7809.000000</td>\n",
              "      <td>440.500000</td>\n",
              "      <td>1724.000000</td>\n",
              "      <td>34431.000000</td>\n",
              "    </tr>\n",
              "    <tr>\n",
              "      <th>75%</th>\n",
              "      <td>339.250000</td>\n",
              "      <td>29933.250000</td>\n",
              "      <td>5375.500000</td>\n",
              "      <td>7026.000000</td>\n",
              "      <td>7809.000000</td>\n",
              "      <td>850.500000</td>\n",
              "      <td>2700.500000</td>\n",
              "      <td>52388.500000</td>\n",
              "    </tr>\n",
              "    <tr>\n",
              "      <th>max</th>\n",
              "      <td>436.000000</td>\n",
              "      <td>112151.000000</td>\n",
              "      <td>15755.875000</td>\n",
              "      <td>23409.875000</td>\n",
              "      <td>7809.000000</td>\n",
              "      <td>9505.250000</td>\n",
              "      <td>3940.000000</td>\n",
              "      <td>162751.875000</td>\n",
              "    </tr>\n",
              "  </tbody>\n",
              "</table>\n",
              "</div>"
            ],
            "text/plain": [
              "       Buyer/Spender          Fresh          Milk       Grocery       Frozen  \\\n",
              "count      44.000000      44.000000     44.000000     44.000000    44.000000   \n",
              "mean      239.886364   24000.931818   5033.892045   5981.201705  7805.522727   \n",
              "std       132.228522   21712.055604   4819.802776   5364.072425    19.333654   \n",
              "min        23.000000       3.000000    333.000000    683.000000  7683.000000   \n",
              "25%       110.750000   10141.500000   1880.250000   2514.750000  7809.000000   \n",
              "50%       259.500000   18408.000000   3488.500000   4604.500000  7809.000000   \n",
              "75%       339.250000   29933.250000   5375.500000   7026.000000  7809.000000   \n",
              "max       436.000000  112151.000000  15755.875000  23409.875000  7809.000000   \n",
              "\n",
              "       Detergents_Paper  Delicatessen             TS  \n",
              "count         44.000000     44.000000      44.000000  \n",
              "mean         890.301136   1882.704545   45594.553977  \n",
              "std         1555.474522   1213.047087   29160.788189  \n",
              "min           15.000000     46.000000   15731.000000  \n",
              "25%          244.250000    905.500000   27460.250000  \n",
              "50%          440.500000   1724.000000   34431.000000  \n",
              "75%          850.500000   2700.500000   52388.500000  \n",
              "max         9505.250000   3940.000000  162751.875000  "
            ]
          },
          "execution_count": 108,
          "metadata": {},
          "output_type": "execute_result"
        }
      ],
      "source": [
        "t = d[d['Frozen'] > d['Frozen'].quantile(0.90)]\n",
        "t.describe()"
      ]
    },
    {
      "cell_type": "markdown",
      "id": "422f89d9-8798-4d92-9339-fc03fa0186db",
      "metadata": {
        "id": "422f89d9-8798-4d92-9339-fc03fa0186db"
      },
      "source": [
        "![image.png](attachment:fe57065d-d4bc-4d7f-9e59-a9f0d9704c44.png)\n",
        "\n",
        "Table - 8"
      ]
    },
    {
      "cell_type": "code",
      "execution_count": null,
      "id": "93b8da97-5c72-4c69-a4e5-c27492791f75",
      "metadata": {
        "id": "93b8da97-5c72-4c69-a4e5-c27492791f75",
        "outputId": "94887b97-a25e-4c9c-d7f8-9eddf953f530"
      },
      "outputs": [
        {
          "data": {
            "text/html": [
              "<div>\n",
              "<style scoped>\n",
              "    .dataframe tbody tr th:only-of-type {\n",
              "        vertical-align: middle;\n",
              "    }\n",
              "\n",
              "    .dataframe tbody tr th {\n",
              "        vertical-align: top;\n",
              "    }\n",
              "\n",
              "    .dataframe thead th {\n",
              "        text-align: right;\n",
              "    }\n",
              "</style>\n",
              "<table border=\"1\" class=\"dataframe\">\n",
              "  <thead>\n",
              "    <tr style=\"text-align: right;\">\n",
              "      <th></th>\n",
              "      <th>Buyer/Spender</th>\n",
              "      <th>Fresh</th>\n",
              "      <th>Milk</th>\n",
              "      <th>Grocery</th>\n",
              "      <th>Frozen</th>\n",
              "      <th>Detergents_Paper</th>\n",
              "      <th>Delicatessen</th>\n",
              "      <th>TS</th>\n",
              "    </tr>\n",
              "  </thead>\n",
              "  <tbody>\n",
              "    <tr>\n",
              "      <th>count</th>\n",
              "      <td>44.000000</td>\n",
              "      <td>44.000000</td>\n",
              "      <td>44.000000</td>\n",
              "      <td>44.000000</td>\n",
              "      <td>44.000000</td>\n",
              "      <td>44.00000</td>\n",
              "      <td>44.000000</td>\n",
              "      <td>44.000000</td>\n",
              "    </tr>\n",
              "    <tr>\n",
              "      <th>mean</th>\n",
              "      <td>193.204545</td>\n",
              "      <td>7563.318182</td>\n",
              "      <td>11890.823864</td>\n",
              "      <td>20325.048295</td>\n",
              "      <td>1705.636364</td>\n",
              "      <td>9175.06250</td>\n",
              "      <td>1634.109797</td>\n",
              "      <td>52293.999001</td>\n",
              "    </tr>\n",
              "    <tr>\n",
              "      <th>std</th>\n",
              "      <td>115.848855</td>\n",
              "      <td>9139.766726</td>\n",
              "      <td>3931.623321</td>\n",
              "      <td>4318.787439</td>\n",
              "      <td>1712.759844</td>\n",
              "      <td>595.12105</td>\n",
              "      <td>1236.212735</td>\n",
              "      <td>15041.878977</td>\n",
              "    </tr>\n",
              "    <tr>\n",
              "      <th>min</th>\n",
              "      <td>29.000000</td>\n",
              "      <td>85.000000</td>\n",
              "      <td>3688.000000</td>\n",
              "      <td>6861.000000</td>\n",
              "      <td>36.000000</td>\n",
              "      <td>7572.00000</td>\n",
              "      <td>59.000000</td>\n",
              "      <td>28829.250000</td>\n",
              "    </tr>\n",
              "    <tr>\n",
              "      <th>25%</th>\n",
              "      <td>85.000000</td>\n",
              "      <td>1914.000000</td>\n",
              "      <td>8232.750000</td>\n",
              "      <td>18423.500000</td>\n",
              "      <td>478.250000</td>\n",
              "      <td>8960.00000</td>\n",
              "      <td>714.500000</td>\n",
              "      <td>44229.529538</td>\n",
              "    </tr>\n",
              "    <tr>\n",
              "      <th>50%</th>\n",
              "      <td>187.500000</td>\n",
              "      <td>5125.000000</td>\n",
              "      <td>12786.500000</td>\n",
              "      <td>23409.875000</td>\n",
              "      <td>1143.000000</td>\n",
              "      <td>9505.25000</td>\n",
              "      <td>1276.915525</td>\n",
              "      <td>49955.000000</td>\n",
              "    </tr>\n",
              "    <tr>\n",
              "      <th>75%</th>\n",
              "      <td>304.250000</td>\n",
              "      <td>9486.750000</td>\n",
              "      <td>15755.875000</td>\n",
              "      <td>23409.875000</td>\n",
              "      <td>2507.250000</td>\n",
              "      <td>9505.25000</td>\n",
              "      <td>2503.500000</td>\n",
              "      <td>57694.875000</td>\n",
              "    </tr>\n",
              "    <tr>\n",
              "      <th>max</th>\n",
              "      <td>438.000000</td>\n",
              "      <td>44466.000000</td>\n",
              "      <td>15755.875000</td>\n",
              "      <td>23409.875000</td>\n",
              "      <td>7782.000000</td>\n",
              "      <td>9505.25000</td>\n",
              "      <td>3940.000000</td>\n",
              "      <td>104859.000000</td>\n",
              "    </tr>\n",
              "  </tbody>\n",
              "</table>\n",
              "</div>"
            ],
            "text/plain": [
              "       Buyer/Spender         Fresh          Milk       Grocery       Frozen  \\\n",
              "count      44.000000     44.000000     44.000000     44.000000    44.000000   \n",
              "mean      193.204545   7563.318182  11890.823864  20325.048295  1705.636364   \n",
              "std       115.848855   9139.766726   3931.623321   4318.787439  1712.759844   \n",
              "min        29.000000     85.000000   3688.000000   6861.000000    36.000000   \n",
              "25%        85.000000   1914.000000   8232.750000  18423.500000   478.250000   \n",
              "50%       187.500000   5125.000000  12786.500000  23409.875000  1143.000000   \n",
              "75%       304.250000   9486.750000  15755.875000  23409.875000  2507.250000   \n",
              "max       438.000000  44466.000000  15755.875000  23409.875000  7782.000000   \n",
              "\n",
              "       Detergents_Paper  Delicatessen             TS  \n",
              "count          44.00000     44.000000      44.000000  \n",
              "mean         9175.06250   1634.109797   52293.999001  \n",
              "std           595.12105   1236.212735   15041.878977  \n",
              "min          7572.00000     59.000000   28829.250000  \n",
              "25%          8960.00000    714.500000   44229.529538  \n",
              "50%          9505.25000   1276.915525   49955.000000  \n",
              "75%          9505.25000   2503.500000   57694.875000  \n",
              "max          9505.25000   3940.000000  104859.000000  "
            ]
          },
          "execution_count": 109,
          "metadata": {},
          "output_type": "execute_result"
        }
      ],
      "source": [
        "t = d[d['Detergents_Paper'] > d['Detergents_Paper'].quantile(0.90)]\n",
        "t.describe()"
      ]
    },
    {
      "cell_type": "markdown",
      "id": "fe71f0ce-27d6-4dd1-a264-1515e3bb5d83",
      "metadata": {
        "id": "fe71f0ce-27d6-4dd1-a264-1515e3bb5d83"
      },
      "source": [
        "![image.png](attachment:bff2cf7b-5467-4fb0-89dc-b85a5a6eee9f.png)\n",
        "\n",
        "Table - 8"
      ]
    },
    {
      "cell_type": "code",
      "execution_count": null,
      "id": "56f1070a-d2e7-483d-86ae-444576df395b",
      "metadata": {
        "id": "56f1070a-d2e7-483d-86ae-444576df395b",
        "outputId": "5950ad3a-fa6c-4d0f-dfaf-bc51ef06b367"
      },
      "outputs": [
        {
          "data": {
            "text/html": [
              "<div>\n",
              "<style scoped>\n",
              "    .dataframe tbody tr th:only-of-type {\n",
              "        vertical-align: middle;\n",
              "    }\n",
              "\n",
              "    .dataframe tbody tr th {\n",
              "        vertical-align: top;\n",
              "    }\n",
              "\n",
              "    .dataframe thead th {\n",
              "        text-align: right;\n",
              "    }\n",
              "</style>\n",
              "<table border=\"1\" class=\"dataframe\">\n",
              "  <thead>\n",
              "    <tr style=\"text-align: right;\">\n",
              "      <th></th>\n",
              "      <th>Buyer/Spender</th>\n",
              "      <th>Fresh</th>\n",
              "      <th>Milk</th>\n",
              "      <th>Grocery</th>\n",
              "      <th>Frozen</th>\n",
              "      <th>Detergents_Paper</th>\n",
              "      <th>Delicatessen</th>\n",
              "      <th>TS</th>\n",
              "    </tr>\n",
              "  </thead>\n",
              "  <tbody>\n",
              "    <tr>\n",
              "      <th>count</th>\n",
              "      <td>44.000000</td>\n",
              "      <td>44.000000</td>\n",
              "      <td>44.000000</td>\n",
              "      <td>44.000000</td>\n",
              "      <td>44.000000</td>\n",
              "      <td>44.000000</td>\n",
              "      <td>44.000000</td>\n",
              "      <td>44.000000</td>\n",
              "    </tr>\n",
              "    <tr>\n",
              "      <th>mean</th>\n",
              "      <td>175.886364</td>\n",
              "      <td>17996.795662</td>\n",
              "      <td>8975.892045</td>\n",
              "      <td>11541.349432</td>\n",
              "      <td>3716.068182</td>\n",
              "      <td>3467.801136</td>\n",
              "      <td>3684.431818</td>\n",
              "      <td>49382.338276</td>\n",
              "    </tr>\n",
              "    <tr>\n",
              "      <th>std</th>\n",
              "      <td>134.894139</td>\n",
              "      <td>19724.509749</td>\n",
              "      <td>5356.401080</td>\n",
              "      <td>7437.894536</td>\n",
              "      <td>2672.931719</td>\n",
              "      <td>3252.435828</td>\n",
              "      <td>352.483508</td>\n",
              "      <td>25860.827323</td>\n",
              "    </tr>\n",
              "    <tr>\n",
              "      <th>min</th>\n",
              "      <td>3.000000</td>\n",
              "      <td>18.000000</td>\n",
              "      <td>928.000000</td>\n",
              "      <td>1641.000000</td>\n",
              "      <td>42.000000</td>\n",
              "      <td>235.000000</td>\n",
              "      <td>2963.000000</td>\n",
              "      <td>14406.000000</td>\n",
              "    </tr>\n",
              "    <tr>\n",
              "      <th>25%</th>\n",
              "      <td>44.750000</td>\n",
              "      <td>4789.500000</td>\n",
              "      <td>4354.500000</td>\n",
              "      <td>4964.750000</td>\n",
              "      <td>1449.250000</td>\n",
              "      <td>735.250000</td>\n",
              "      <td>3308.500000</td>\n",
              "      <td>32960.500000</td>\n",
              "    </tr>\n",
              "    <tr>\n",
              "      <th>50%</th>\n",
              "      <td>162.000000</td>\n",
              "      <td>12776.504566</td>\n",
              "      <td>7382.000000</td>\n",
              "      <td>9794.500000</td>\n",
              "      <td>3242.000000</td>\n",
              "      <td>2128.500000</td>\n",
              "      <td>3940.000000</td>\n",
              "      <td>45920.500000</td>\n",
              "    </tr>\n",
              "    <tr>\n",
              "      <th>75%</th>\n",
              "      <td>280.000000</td>\n",
              "      <td>24244.750000</td>\n",
              "      <td>15755.875000</td>\n",
              "      <td>18565.000000</td>\n",
              "      <td>6163.500000</td>\n",
              "      <td>4954.250000</td>\n",
              "      <td>3940.000000</td>\n",
              "      <td>57123.562500</td>\n",
              "    </tr>\n",
              "    <tr>\n",
              "      <th>max</th>\n",
              "      <td>412.000000</td>\n",
              "      <td>112151.000000</td>\n",
              "      <td>15755.875000</td>\n",
              "      <td>23409.875000</td>\n",
              "      <td>7809.000000</td>\n",
              "      <td>9505.250000</td>\n",
              "      <td>3940.000000</td>\n",
              "      <td>162751.875000</td>\n",
              "    </tr>\n",
              "  </tbody>\n",
              "</table>\n",
              "</div>"
            ],
            "text/plain": [
              "       Buyer/Spender          Fresh          Milk       Grocery       Frozen  \\\n",
              "count      44.000000      44.000000     44.000000     44.000000    44.000000   \n",
              "mean      175.886364   17996.795662   8975.892045  11541.349432  3716.068182   \n",
              "std       134.894139   19724.509749   5356.401080   7437.894536  2672.931719   \n",
              "min         3.000000      18.000000    928.000000   1641.000000    42.000000   \n",
              "25%        44.750000    4789.500000   4354.500000   4964.750000  1449.250000   \n",
              "50%       162.000000   12776.504566   7382.000000   9794.500000  3242.000000   \n",
              "75%       280.000000   24244.750000  15755.875000  18565.000000  6163.500000   \n",
              "max       412.000000  112151.000000  15755.875000  23409.875000  7809.000000   \n",
              "\n",
              "       Detergents_Paper  Delicatessen             TS  \n",
              "count         44.000000     44.000000      44.000000  \n",
              "mean        3467.801136   3684.431818   49382.338276  \n",
              "std         3252.435828    352.483508   25860.827323  \n",
              "min          235.000000   2963.000000   14406.000000  \n",
              "25%          735.250000   3308.500000   32960.500000  \n",
              "50%         2128.500000   3940.000000   45920.500000  \n",
              "75%         4954.250000   3940.000000   57123.562500  \n",
              "max         9505.250000   3940.000000  162751.875000  "
            ]
          },
          "execution_count": 110,
          "metadata": {},
          "output_type": "execute_result"
        }
      ],
      "source": [
        "t = d[d['Delicatessen'] > d['Delicatessen'].quantile(0.90)]\n",
        "t.describe()"
      ]
    },
    {
      "cell_type": "markdown",
      "id": "83265db2-8cde-4be9-9411-c82e139ad5b1",
      "metadata": {
        "id": "83265db2-8cde-4be9-9411-c82e139ad5b1"
      },
      "source": [
        "![image.png](attachment:f0d75550-add6-473d-912a-61a91d3b7dad.png)\n",
        "\n",
        "Table - 9"
      ]
    },
    {
      "cell_type": "code",
      "execution_count": null,
      "id": "49e1b084-9ea9-4b46-9516-1d3639aa886d",
      "metadata": {
        "id": "49e1b084-9ea9-4b46-9516-1d3639aa886d",
        "outputId": "65109ab8-8103-4162-9da1-3f3b922e4cdd"
      },
      "outputs": [
        {
          "data": {
            "text/html": [
              "<div>\n",
              "<style scoped>\n",
              "    .dataframe tbody tr th:only-of-type {\n",
              "        vertical-align: middle;\n",
              "    }\n",
              "\n",
              "    .dataframe tbody tr th {\n",
              "        vertical-align: top;\n",
              "    }\n",
              "\n",
              "    .dataframe thead th {\n",
              "        text-align: right;\n",
              "    }\n",
              "</style>\n",
              "<table border=\"1\" class=\"dataframe\">\n",
              "  <thead>\n",
              "    <tr style=\"text-align: right;\">\n",
              "      <th></th>\n",
              "      <th>Buyer/Spender</th>\n",
              "      <th>Fresh</th>\n",
              "      <th>Milk</th>\n",
              "      <th>Grocery</th>\n",
              "      <th>Frozen</th>\n",
              "      <th>Detergents_Paper</th>\n",
              "      <th>Delicatessen</th>\n",
              "      <th>TS</th>\n",
              "    </tr>\n",
              "  </thead>\n",
              "  <tbody>\n",
              "    <tr>\n",
              "      <th>count</th>\n",
              "      <td>88.000000</td>\n",
              "      <td>88.000000</td>\n",
              "      <td>88.000000</td>\n",
              "      <td>88.000000</td>\n",
              "      <td>88.000000</td>\n",
              "      <td>88.000000</td>\n",
              "      <td>88.000000</td>\n",
              "      <td>88.000000</td>\n",
              "    </tr>\n",
              "    <tr>\n",
              "      <th>mean</th>\n",
              "      <td>183.443182</td>\n",
              "      <td>24310.875000</td>\n",
              "      <td>9841.934659</td>\n",
              "      <td>14515.742898</td>\n",
              "      <td>3328.261364</td>\n",
              "      <td>4934.420455</td>\n",
              "      <td>2084.454545</td>\n",
              "      <td>59015.688920</td>\n",
              "    </tr>\n",
              "    <tr>\n",
              "      <th>std</th>\n",
              "      <td>129.357551</td>\n",
              "      <td>19692.189777</td>\n",
              "      <td>5118.551270</td>\n",
              "      <td>7706.500680</td>\n",
              "      <td>2612.326688</td>\n",
              "      <td>3851.283191</td>\n",
              "      <td>1260.102002</td>\n",
              "      <td>16785.446601</td>\n",
              "    </tr>\n",
              "    <tr>\n",
              "      <th>min</th>\n",
              "      <td>10.000000</td>\n",
              "      <td>85.000000</td>\n",
              "      <td>555.000000</td>\n",
              "      <td>764.000000</td>\n",
              "      <td>36.000000</td>\n",
              "      <td>20.000000</td>\n",
              "      <td>3.000000</td>\n",
              "      <td>45408.000000</td>\n",
              "    </tr>\n",
              "    <tr>\n",
              "      <th>25%</th>\n",
              "      <td>63.500000</td>\n",
              "      <td>8264.250000</td>\n",
              "      <td>4915.750000</td>\n",
              "      <td>7270.000000</td>\n",
              "      <td>1113.250000</td>\n",
              "      <td>815.500000</td>\n",
              "      <td>1067.750000</td>\n",
              "      <td>48573.000000</td>\n",
              "    </tr>\n",
              "    <tr>\n",
              "      <th>50%</th>\n",
              "      <td>169.000000</td>\n",
              "      <td>22343.000000</td>\n",
              "      <td>10869.500000</td>\n",
              "      <td>15191.000000</td>\n",
              "      <td>2712.500000</td>\n",
              "      <td>5003.000000</td>\n",
              "      <td>1845.500000</td>\n",
              "      <td>54131.500000</td>\n",
              "    </tr>\n",
              "    <tr>\n",
              "      <th>75%</th>\n",
              "      <td>283.500000</td>\n",
              "      <td>36241.750000</td>\n",
              "      <td>15733.468750</td>\n",
              "      <td>22502.250000</td>\n",
              "      <td>5176.250000</td>\n",
              "      <td>9505.250000</td>\n",
              "      <td>3056.000000</td>\n",
              "      <td>65090.281250</td>\n",
              "    </tr>\n",
              "    <tr>\n",
              "      <th>max</th>\n",
              "      <td>438.000000</td>\n",
              "      <td>112151.000000</td>\n",
              "      <td>15755.875000</td>\n",
              "      <td>23409.875000</td>\n",
              "      <td>7809.000000</td>\n",
              "      <td>9505.250000</td>\n",
              "      <td>3940.000000</td>\n",
              "      <td>162751.875000</td>\n",
              "    </tr>\n",
              "  </tbody>\n",
              "</table>\n",
              "</div>"
            ],
            "text/plain": [
              "       Buyer/Spender          Fresh          Milk       Grocery       Frozen  \\\n",
              "count      88.000000      88.000000     88.000000     88.000000    88.000000   \n",
              "mean      183.443182   24310.875000   9841.934659  14515.742898  3328.261364   \n",
              "std       129.357551   19692.189777   5118.551270   7706.500680  2612.326688   \n",
              "min        10.000000      85.000000    555.000000    764.000000    36.000000   \n",
              "25%        63.500000    8264.250000   4915.750000   7270.000000  1113.250000   \n",
              "50%       169.000000   22343.000000  10869.500000  15191.000000  2712.500000   \n",
              "75%       283.500000   36241.750000  15733.468750  22502.250000  5176.250000   \n",
              "max       438.000000  112151.000000  15755.875000  23409.875000  7809.000000   \n",
              "\n",
              "       Detergents_Paper  Delicatessen             TS  \n",
              "count         88.000000     88.000000      88.000000  \n",
              "mean        4934.420455   2084.454545   59015.688920  \n",
              "std         3851.283191   1260.102002   16785.446601  \n",
              "min           20.000000      3.000000   45408.000000  \n",
              "25%          815.500000   1067.750000   48573.000000  \n",
              "50%         5003.000000   1845.500000   54131.500000  \n",
              "75%         9505.250000   3056.000000   65090.281250  \n",
              "max         9505.250000   3940.000000  162751.875000  "
            ]
          },
          "execution_count": 111,
          "metadata": {},
          "output_type": "execute_result"
        }
      ],
      "source": [
        "h_S = d[d['TS'] > d['TS'].quantile(0.80)]\n",
        "l_S = d[d['TS'] < d['TS'].quantile(0.20)]\n",
        "h_S.describe()"
      ]
    },
    {
      "cell_type": "markdown",
      "id": "b5af9725-fefb-4486-8982-843e1f393606",
      "metadata": {
        "id": "b5af9725-fefb-4486-8982-843e1f393606"
      },
      "source": [
        "![image.png](attachment:70576f09-8cba-4f55-892f-fe1e207c1f3a.png)\n",
        "\n",
        "Table - 10"
      ]
    },
    {
      "cell_type": "code",
      "execution_count": null,
      "id": "1d301f50-ccae-4e06-a16a-55cd58236911",
      "metadata": {
        "id": "1d301f50-ccae-4e06-a16a-55cd58236911",
        "outputId": "93dc72f1-e8ec-43bd-8aa5-898f4017e8a5"
      },
      "outputs": [
        {
          "data": {
            "text/html": [
              "<div>\n",
              "<style scoped>\n",
              "    .dataframe tbody tr th:only-of-type {\n",
              "        vertical-align: middle;\n",
              "    }\n",
              "\n",
              "    .dataframe tbody tr th {\n",
              "        vertical-align: top;\n",
              "    }\n",
              "\n",
              "    .dataframe thead th {\n",
              "        text-align: right;\n",
              "    }\n",
              "</style>\n",
              "<table border=\"1\" class=\"dataframe\">\n",
              "  <thead>\n",
              "    <tr style=\"text-align: right;\">\n",
              "      <th></th>\n",
              "      <th>Buyer/Spender</th>\n",
              "      <th>Fresh</th>\n",
              "      <th>Milk</th>\n",
              "      <th>Grocery</th>\n",
              "      <th>Frozen</th>\n",
              "      <th>Detergents_Paper</th>\n",
              "      <th>Delicatessen</th>\n",
              "      <th>TS</th>\n",
              "    </tr>\n",
              "  </thead>\n",
              "  <tbody>\n",
              "    <tr>\n",
              "      <th>count</th>\n",
              "      <td>88.000000</td>\n",
              "      <td>88.000000</td>\n",
              "      <td>88.000000</td>\n",
              "      <td>88.000000</td>\n",
              "      <td>88.000000</td>\n",
              "      <td>88.000000</td>\n",
              "      <td>88.000000</td>\n",
              "      <td>88.000000</td>\n",
              "    </tr>\n",
              "    <tr>\n",
              "      <th>mean</th>\n",
              "      <td>251.465909</td>\n",
              "      <td>3836.545455</td>\n",
              "      <td>1835.113636</td>\n",
              "      <td>2243.375000</td>\n",
              "      <td>1340.590909</td>\n",
              "      <td>516.375000</td>\n",
              "      <td>684.022727</td>\n",
              "      <td>10456.022727</td>\n",
              "    </tr>\n",
              "    <tr>\n",
              "      <th>std</th>\n",
              "      <td>113.664150</td>\n",
              "      <td>2856.551928</td>\n",
              "      <td>1551.468103</td>\n",
              "      <td>1497.727591</td>\n",
              "      <td>1156.243140</td>\n",
              "      <td>764.755138</td>\n",
              "      <td>686.959183</td>\n",
              "      <td>3354.991474</td>\n",
              "    </tr>\n",
              "    <tr>\n",
              "      <th>min</th>\n",
              "      <td>22.000000</td>\n",
              "      <td>3.000000</td>\n",
              "      <td>1.000000</td>\n",
              "      <td>137.000000</td>\n",
              "      <td>65.000000</td>\n",
              "      <td>5.000000</td>\n",
              "      <td>3.000000</td>\n",
              "      <td>904.000000</td>\n",
              "    </tr>\n",
              "    <tr>\n",
              "      <th>25%</th>\n",
              "      <td>154.250000</td>\n",
              "      <td>1448.750000</td>\n",
              "      <td>843.250000</td>\n",
              "      <td>1280.250000</td>\n",
              "      <td>518.500000</td>\n",
              "      <td>153.000000</td>\n",
              "      <td>278.500000</td>\n",
              "      <td>9132.500000</td>\n",
              "    </tr>\n",
              "    <tr>\n",
              "      <th>50%</th>\n",
              "      <td>245.000000</td>\n",
              "      <td>3288.500000</td>\n",
              "      <td>1258.000000</td>\n",
              "      <td>2017.000000</td>\n",
              "      <td>963.500000</td>\n",
              "      <td>263.500000</td>\n",
              "      <td>494.000000</td>\n",
              "      <td>10946.500000</td>\n",
              "    </tr>\n",
              "    <tr>\n",
              "      <th>75%</th>\n",
              "      <td>362.250000</td>\n",
              "      <td>6233.250000</td>\n",
              "      <td>2652.250000</td>\n",
              "      <td>2832.250000</td>\n",
              "      <td>1690.250000</td>\n",
              "      <td>490.750000</td>\n",
              "      <td>971.500000</td>\n",
              "      <td>12748.750000</td>\n",
              "    </tr>\n",
              "    <tr>\n",
              "      <th>max</th>\n",
              "      <td>440.000000</td>\n",
              "      <td>9785.000000</td>\n",
              "      <td>8847.000000</td>\n",
              "      <td>8118.000000</td>\n",
              "      <td>5502.000000</td>\n",
              "      <td>4762.000000</td>\n",
              "      <td>3940.000000</td>\n",
              "      <td>15454.000000</td>\n",
              "    </tr>\n",
              "  </tbody>\n",
              "</table>\n",
              "</div>"
            ],
            "text/plain": [
              "       Buyer/Spender        Fresh         Milk      Grocery       Frozen  \\\n",
              "count      88.000000    88.000000    88.000000    88.000000    88.000000   \n",
              "mean      251.465909  3836.545455  1835.113636  2243.375000  1340.590909   \n",
              "std       113.664150  2856.551928  1551.468103  1497.727591  1156.243140   \n",
              "min        22.000000     3.000000     1.000000   137.000000    65.000000   \n",
              "25%       154.250000  1448.750000   843.250000  1280.250000   518.500000   \n",
              "50%       245.000000  3288.500000  1258.000000  2017.000000   963.500000   \n",
              "75%       362.250000  6233.250000  2652.250000  2832.250000  1690.250000   \n",
              "max       440.000000  9785.000000  8847.000000  8118.000000  5502.000000   \n",
              "\n",
              "       Detergents_Paper  Delicatessen            TS  \n",
              "count         88.000000     88.000000     88.000000  \n",
              "mean         516.375000    684.022727  10456.022727  \n",
              "std          764.755138    686.959183   3354.991474  \n",
              "min            5.000000      3.000000    904.000000  \n",
              "25%          153.000000    278.500000   9132.500000  \n",
              "50%          263.500000    494.000000  10946.500000  \n",
              "75%          490.750000    971.500000  12748.750000  \n",
              "max         4762.000000   3940.000000  15454.000000  "
            ]
          },
          "execution_count": 112,
          "metadata": {},
          "output_type": "execute_result"
        }
      ],
      "source": [
        "l_S.describe()"
      ]
    },
    {
      "cell_type": "markdown",
      "id": "84997b09-a90d-48ae-9fbb-4765c94cb151",
      "metadata": {
        "id": "84997b09-a90d-48ae-9fbb-4765c94cb151"
      },
      "source": [
        "![image.png](attachment:1bc645c8-7511-4293-beaf-724de0a963f2.png)\n",
        "\n",
        "Table - 11"
      ]
    },
    {
      "cell_type": "markdown",
      "id": "2baf4dd2-52d5-4e14-bcf6-6a0a4449f1d3",
      "metadata": {
        "id": "2baf4dd2-52d5-4e14-bcf6-6a0a4449f1d3"
      },
      "source": [
        "# 5 Cross-Category Analysis"
      ]
    },
    {
      "cell_type": "code",
      "execution_count": null,
      "id": "c8036f80-f061-449f-a4cd-91cccf937c83",
      "metadata": {
        "id": "c8036f80-f061-449f-a4cd-91cccf937c83",
        "outputId": "5d659d77-c782-408c-9428-162b16b8c92b"
      },
      "outputs": [
        {
          "data": {
            "image/png": "[encoded data removed]",
            "text/plain": [
              "<Figure size 1000x300 with 2 Axes>"
            ]
          },
          "metadata": {},
          "output_type": "display_data"
        }
      ],
      "source": [
        "corr=d[['Milk','Grocery']].corr()\n",
        "plt.figure(figsize=(10,3))\n",
        "sns.heatmap(corr, annot= True);"
      ]
    },
    {
      "cell_type": "markdown",
      "id": "31d75f7f-7165-4965-b388-4019e997d3a5",
      "metadata": {
        "id": "31d75f7f-7165-4965-b388-4019e997d3a5"
      },
      "source": [
        "* A significant and a positive correlation exists between Milk and Grocery with a correlation value of 0.77."
      ]
    },
    {
      "cell_type": "code",
      "execution_count": null,
      "id": "2c08ef4a-d502-4464-8eed-6359dcdfdf83",
      "metadata": {
        "id": "2c08ef4a-d502-4464-8eed-6359dcdfdf83",
        "outputId": "3dc39c48-b3b0-400d-b318-92955e903bfa"
      },
      "outputs": [
        {
          "data": {
            "text/html": [
              "<div>\n",
              "<style scoped>\n",
              "    .dataframe tbody tr th:only-of-type {\n",
              "        vertical-align: middle;\n",
              "    }\n",
              "\n",
              "    .dataframe tbody tr th {\n",
              "        vertical-align: top;\n",
              "    }\n",
              "\n",
              "    .dataframe thead th {\n",
              "        text-align: right;\n",
              "    }\n",
              "</style>\n",
              "<table border=\"1\" class=\"dataframe\">\n",
              "  <thead>\n",
              "    <tr style=\"text-align: right;\">\n",
              "      <th></th>\n",
              "      <th>Delicatessen</th>\n",
              "      <th>Frozen</th>\n",
              "    </tr>\n",
              "  </thead>\n",
              "  <tbody>\n",
              "    <tr>\n",
              "      <th>Delicatessen</th>\n",
              "      <td>1.00000</td>\n",
              "      <td>0.23194</td>\n",
              "    </tr>\n",
              "    <tr>\n",
              "      <th>Frozen</th>\n",
              "      <td>0.23194</td>\n",
              "      <td>1.00000</td>\n",
              "    </tr>\n",
              "  </tbody>\n",
              "</table>\n",
              "</div>"
            ],
            "text/plain": [
              "              Delicatessen   Frozen\n",
              "Delicatessen       1.00000  0.23194\n",
              "Frozen             0.23194  1.00000"
            ]
          },
          "execution_count": 114,
          "metadata": {},
          "output_type": "execute_result"
        }
      ],
      "source": [
        "d[['Delicatessen','Frozen']].corr()"
      ]
    },
    {
      "cell_type": "markdown",
      "id": "6271472f-90a0-4dd7-953c-1b4db48b7345",
      "metadata": {
        "id": "6271472f-90a0-4dd7-953c-1b4db48b7345"
      },
      "source": [
        "* The poor correlation shows that a buyier who spends more on Frozen food spends less on Delicatessen."
      ]
    },
    {
      "cell_type": "code",
      "execution_count": null,
      "id": "fa065e4d-6ec4-4f4d-a89f-4b1150300cc8",
      "metadata": {
        "id": "fa065e4d-6ec4-4f4d-a89f-4b1150300cc8",
        "outputId": "1204ba7d-121b-4ae4-842f-af33ec69457d"
      },
      "outputs": [
        {
          "data": {
            "text/plain": [
              "Region\n",
              "Lisbon    16259.140000\n",
              "Oporto    15113.130814\n",
              "Other     17671.552669\n",
              "dtype: float64"
            ]
          },
          "execution_count": 117,
          "metadata": {},
          "output_type": "execute_result"
        }
      ],
      "source": [
        "d.groupby(\"Region\")[\"Milk\"].mean()+d.groupby(\"Region\")[\"Fresh\"].mean()"
      ]
    },
    {
      "cell_type": "markdown",
      "id": "a4a37a58-106b-4aea-9c0d-4e1eed80970d",
      "metadata": {
        "id": "a4a37a58-106b-4aea-9c0d-4e1eed80970d"
      },
      "source": [
        "* The combined average spending on Fresh and Milk for each region is:\n",
        "\n",
        "Lisbon - 16259.140000\n",
        "\n",
        "Oporto - 15113.130814\n",
        "\n",
        "Other  - 17671.552669"
      ]
    },
    {
      "cell_type": "markdown",
      "id": "9be27b4c-56ce-4741-a3fa-7d38b13ebbde",
      "metadata": {
        "id": "9be27b4c-56ce-4741-a3fa-7d38b13ebbde"
      },
      "source": [
        "# 6 Demand Trends"
      ]
    },
    {
      "cell_type": "code",
      "execution_count": null,
      "id": "ed0c4a52-2a90-4e03-bf3a-110d70558dff",
      "metadata": {
        "id": "ed0c4a52-2a90-4e03-bf3a-110d70558dff",
        "outputId": "15f29bba-57b7-4a10-c1d6-6153f30ae697"
      },
      "outputs": [
        {
          "data": {
            "text/plain": [
              "Region\n",
              "Lisbon    11273.440000\n",
              "Oporto    10054.488372\n",
              "Other     12555.348159\n",
              "Name: Fresh, dtype: float64"
            ]
          },
          "execution_count": 122,
          "metadata": {},
          "output_type": "execute_result"
        }
      ],
      "source": [
        "d.groupby(\"Region\")[\"Fresh\"].mean()"
      ]
    },
    {
      "cell_type": "markdown",
      "id": "efbb3c12-1464-46ec-902f-301fe2bc376b",
      "metadata": {
        "id": "efbb3c12-1464-46ec-902f-301fe2bc376b"
      },
      "source": [
        "* Lisbon Region has the fastest growing spending on Fresh Vegetables."
      ]
    },
    {
      "cell_type": "markdown",
      "id": "3deaf3d6-6338-4a34-a7da-f68c8e097fcf",
      "metadata": {
        "id": "3deaf3d6-6338-4a34-a7da-f68c8e097fcf"
      },
      "source": [
        "# 7 Buyer Insights"
      ]
    },
    {
      "cell_type": "code",
      "execution_count": null,
      "id": "e27d09c2-f94f-451d-9a97-b657bd14d576",
      "metadata": {
        "id": "e27d09c2-f94f-451d-9a97-b657bd14d576",
        "outputId": "2e4e3983-ef84-49e0-f909-e60c4c0e1104"
      },
      "outputs": [
        {
          "data": {
            "text/plain": [
              "Region\n",
              "Lisbon    16206.201167\n",
              "Oporto    14996.166548\n",
              "Other     19434.078281\n",
              "Name: TS, dtype: float64"
            ]
          },
          "execution_count": 136,
          "metadata": {},
          "output_type": "execute_result"
        }
      ],
      "source": [
        "d.groupby(\"Region\")[\"TS\"].std()"
      ]
    },
    {
      "cell_type": "markdown",
      "id": "9ff772fc-572b-4447-ae52-bf9897c5738f",
      "metadata": {
        "id": "9ff772fc-572b-4447-ae52-bf9897c5738f"
      },
      "source": [
        "* Lisbon has most diverse spending pattern"
      ]
    },
    {
      "cell_type": "code",
      "execution_count": null,
      "id": "1e777825-71b2-48e2-8595-74b64328d8c2",
      "metadata": {
        "id": "1e777825-71b2-48e2-8595-74b64328d8c2"
      },
      "outputs": [],
      "source": [
        "o=d[\"TS\"].mean()/100\n",
        "lo=o*90\n",
        "up=o*100"
      ]
    },
    {
      "cell_type": "code",
      "execution_count": null,
      "id": "88a120ef-7461-4db3-afca-a4cbcb5b43c0",
      "metadata": {
        "id": "88a120ef-7461-4db3-afca-a4cbcb5b43c0",
        "outputId": "f3c09d23-6742-4e0b-fa85-cfd5ec257ea3"
      },
      "outputs": [
        {
          "data": {
            "text/plain": [
              "36"
            ]
          },
          "execution_count": 157,
          "metadata": {},
          "output_type": "execute_result"
        }
      ],
      "source": [
        "d[(d[\"TS\"]>lo)&(d[\"TS\"]<up)][\"Buyer/Spender\"].count()"
      ]
    },
    {
      "cell_type": "markdown",
      "id": "83e071a4-d868-41fa-9fa7-3fd4edd63adf",
      "metadata": {
        "id": "83e071a4-d868-41fa-9fa7-3fd4edd63adf"
      },
      "source": [
        "* Around 36 Buyer/Spender has spend consistently"
      ]
    },
    {
      "cell_type": "code",
      "execution_count": null,
      "id": "bbf5561f-602f-4388-a61b-95ee1aba2fd7",
      "metadata": {
        "id": "bbf5561f-602f-4388-a61b-95ee1aba2fd7"
      },
      "outputs": [],
      "source": []
    }
  ],
  "metadata": {
    "kernelspec": {
      "display_name": "Python 3 (ipykernel)",
      "language": "python",
      "name": "python3"
    },
    "language_info": {
      "codemirror_mode": {
        "name": "ipython",
        "version": 3
      },
      "file_extension": ".py",
      "mimetype": "text/x-python",
      "name": "python",
      "nbconvert_exporter": "python",
      "pygments_lexer": "ipython3",
      "version": "3.11.5"
    },
    "colab": {
      "provenance": [],
      "include_colab_link": true
    }
  },
  "nbformat": 4,
  "nbformat_minor": 5
}